{
  "nbformat": 4,
  "nbformat_minor": 0,
  "metadata": {
    "colab": {
      "provenance": [],
      "include_colab_link": true
    },
    "kernelspec": {
      "name": "python3",
      "display_name": "Python 3"
    },
    "language_info": {
      "name": "python"
    }
  },
  "cells": [
    {
      "cell_type": "markdown",
      "metadata": {
        "id": "view-in-github",
        "colab_type": "text"
      },
      "source": [
        "<a href=\"https://colab.research.google.com/github/NadaAbdr/Mobile-Device-Usage-and-User-Behavior/blob/main/Mobile_Phone_Usage_Data_Analysis_Using_Machine_Learning.ipynb\" target=\"_parent\"><img src=\"https://colab.research.google.com/assets/colab-badge.svg\" alt=\"Open In Colab\"/></a>"
      ]
    },
    {
      "cell_type": "markdown",
      "source": [
        "**Mobile Phone Usage Data Analysis Using Machine Learning**\n",
        "\n",
        "In our time, the use of smartphones has become an essential thing that we cannot do without, but many people face the problem of excessive use of phones without realizing the amount of time they spend on them. This excessive use may affect their social life and mental health, such as poor eyesight due to focusing on screens for long periods, and it may also lead to weak social relationships and a feeling of isolation as users tend to immerse themselves in their phones instead of interacting with those around them.\n",
        "\n",
        "To solve this problem, we will train a model that analyzes user behavior data on mobile phones then determines the level of usage (from light to heavy). When the user exceeds the upper limit of usage, it will allow him to realize the extent of his excessive use of the mobile phone. Thus, the user can decide to allocate appropriate breaks. This will contribute to promoting a healthy and psychological balance, and help improve social relationships and avoid isolation.\n"
      ],
      "metadata": {
        "id": "eBR9kio93Tjd"
      }
    },
    {
      "cell_type": "code",
      "execution_count": null,
      "metadata": {
        "colab": {
          "base_uri": "https://localhost:8080/",
          "height": 73
        },
        "id": "YrVCJLry_sPz",
        "outputId": "ac7bef63-a74e-4304-c631-a85b2ca81d28"
      },
      "outputs": [
        {
          "output_type": "display_data",
          "data": {
            "text/plain": [
              "<IPython.core.display.HTML object>"
            ],
            "text/html": [
              "\n",
              "     <input type=\"file\" id=\"files-1d2adfb8-72c0-4730-998e-ae9893de977f\" name=\"files[]\" multiple disabled\n",
              "        style=\"border:none\" />\n",
              "     <output id=\"result-1d2adfb8-72c0-4730-998e-ae9893de977f\">\n",
              "      Upload widget is only available when the cell has been executed in the\n",
              "      current browser session. Please rerun this cell to enable.\n",
              "      </output>\n",
              "      <script>// Copyright 2017 Google LLC\n",
              "//\n",
              "// Licensed under the Apache License, Version 2.0 (the \"License\");\n",
              "// you may not use this file except in compliance with the License.\n",
              "// You may obtain a copy of the License at\n",
              "//\n",
              "//      http://www.apache.org/licenses/LICENSE-2.0\n",
              "//\n",
              "// Unless required by applicable law or agreed to in writing, software\n",
              "// distributed under the License is distributed on an \"AS IS\" BASIS,\n",
              "// WITHOUT WARRANTIES OR CONDITIONS OF ANY KIND, either express or implied.\n",
              "// See the License for the specific language governing permissions and\n",
              "// limitations under the License.\n",
              "\n",
              "/**\n",
              " * @fileoverview Helpers for google.colab Python module.\n",
              " */\n",
              "(function(scope) {\n",
              "function span(text, styleAttributes = {}) {\n",
              "  const element = document.createElement('span');\n",
              "  element.textContent = text;\n",
              "  for (const key of Object.keys(styleAttributes)) {\n",
              "    element.style[key] = styleAttributes[key];\n",
              "  }\n",
              "  return element;\n",
              "}\n",
              "\n",
              "// Max number of bytes which will be uploaded at a time.\n",
              "const MAX_PAYLOAD_SIZE = 100 * 1024;\n",
              "\n",
              "function _uploadFiles(inputId, outputId) {\n",
              "  const steps = uploadFilesStep(inputId, outputId);\n",
              "  const outputElement = document.getElementById(outputId);\n",
              "  // Cache steps on the outputElement to make it available for the next call\n",
              "  // to uploadFilesContinue from Python.\n",
              "  outputElement.steps = steps;\n",
              "\n",
              "  return _uploadFilesContinue(outputId);\n",
              "}\n",
              "\n",
              "// This is roughly an async generator (not supported in the browser yet),\n",
              "// where there are multiple asynchronous steps and the Python side is going\n",
              "// to poll for completion of each step.\n",
              "// This uses a Promise to block the python side on completion of each step,\n",
              "// then passes the result of the previous step as the input to the next step.\n",
              "function _uploadFilesContinue(outputId) {\n",
              "  const outputElement = document.getElementById(outputId);\n",
              "  const steps = outputElement.steps;\n",
              "\n",
              "  const next = steps.next(outputElement.lastPromiseValue);\n",
              "  return Promise.resolve(next.value.promise).then((value) => {\n",
              "    // Cache the last promise value to make it available to the next\n",
              "    // step of the generator.\n",
              "    outputElement.lastPromiseValue = value;\n",
              "    return next.value.response;\n",
              "  });\n",
              "}\n",
              "\n",
              "/**\n",
              " * Generator function which is called between each async step of the upload\n",
              " * process.\n",
              " * @param {string} inputId Element ID of the input file picker element.\n",
              " * @param {string} outputId Element ID of the output display.\n",
              " * @return {!Iterable<!Object>} Iterable of next steps.\n",
              " */\n",
              "function* uploadFilesStep(inputId, outputId) {\n",
              "  const inputElement = document.getElementById(inputId);\n",
              "  inputElement.disabled = false;\n",
              "\n",
              "  const outputElement = document.getElementById(outputId);\n",
              "  outputElement.innerHTML = '';\n",
              "\n",
              "  const pickedPromise = new Promise((resolve) => {\n",
              "    inputElement.addEventListener('change', (e) => {\n",
              "      resolve(e.target.files);\n",
              "    });\n",
              "  });\n",
              "\n",
              "  const cancel = document.createElement('button');\n",
              "  inputElement.parentElement.appendChild(cancel);\n",
              "  cancel.textContent = 'Cancel upload';\n",
              "  const cancelPromise = new Promise((resolve) => {\n",
              "    cancel.onclick = () => {\n",
              "      resolve(null);\n",
              "    };\n",
              "  });\n",
              "\n",
              "  // Wait for the user to pick the files.\n",
              "  const files = yield {\n",
              "    promise: Promise.race([pickedPromise, cancelPromise]),\n",
              "    response: {\n",
              "      action: 'starting',\n",
              "    }\n",
              "  };\n",
              "\n",
              "  cancel.remove();\n",
              "\n",
              "  // Disable the input element since further picks are not allowed.\n",
              "  inputElement.disabled = true;\n",
              "\n",
              "  if (!files) {\n",
              "    return {\n",
              "      response: {\n",
              "        action: 'complete',\n",
              "      }\n",
              "    };\n",
              "  }\n",
              "\n",
              "  for (const file of files) {\n",
              "    const li = document.createElement('li');\n",
              "    li.append(span(file.name, {fontWeight: 'bold'}));\n",
              "    li.append(span(\n",
              "        `(${file.type || 'n/a'}) - ${file.size} bytes, ` +\n",
              "        `last modified: ${\n",
              "            file.lastModifiedDate ? file.lastModifiedDate.toLocaleDateString() :\n",
              "                                    'n/a'} - `));\n",
              "    const percent = span('0% done');\n",
              "    li.appendChild(percent);\n",
              "\n",
              "    outputElement.appendChild(li);\n",
              "\n",
              "    const fileDataPromise = new Promise((resolve) => {\n",
              "      const reader = new FileReader();\n",
              "      reader.onload = (e) => {\n",
              "        resolve(e.target.result);\n",
              "      };\n",
              "      reader.readAsArrayBuffer(file);\n",
              "    });\n",
              "    // Wait for the data to be ready.\n",
              "    let fileData = yield {\n",
              "      promise: fileDataPromise,\n",
              "      response: {\n",
              "        action: 'continue',\n",
              "      }\n",
              "    };\n",
              "\n",
              "    // Use a chunked sending to avoid message size limits. See b/62115660.\n",
              "    let position = 0;\n",
              "    do {\n",
              "      const length = Math.min(fileData.byteLength - position, MAX_PAYLOAD_SIZE);\n",
              "      const chunk = new Uint8Array(fileData, position, length);\n",
              "      position += length;\n",
              "\n",
              "      const base64 = btoa(String.fromCharCode.apply(null, chunk));\n",
              "      yield {\n",
              "        response: {\n",
              "          action: 'append',\n",
              "          file: file.name,\n",
              "          data: base64,\n",
              "        },\n",
              "      };\n",
              "\n",
              "      let percentDone = fileData.byteLength === 0 ?\n",
              "          100 :\n",
              "          Math.round((position / fileData.byteLength) * 100);\n",
              "      percent.textContent = `${percentDone}% done`;\n",
              "\n",
              "    } while (position < fileData.byteLength);\n",
              "  }\n",
              "\n",
              "  // All done.\n",
              "  yield {\n",
              "    response: {\n",
              "      action: 'complete',\n",
              "    }\n",
              "  };\n",
              "}\n",
              "\n",
              "scope.google = scope.google || {};\n",
              "scope.google.colab = scope.google.colab || {};\n",
              "scope.google.colab._files = {\n",
              "  _uploadFiles,\n",
              "  _uploadFilesContinue,\n",
              "};\n",
              "})(self);\n",
              "</script> "
            ]
          },
          "metadata": {}
        },
        {
          "output_type": "stream",
          "name": "stdout",
          "text": [
            "Saving user_behavior_dataset.csv to user_behavior_dataset.csv\n"
          ]
        }
      ],
      "source": [
        "from google.colab import files\n",
        "uploaded = files.upload();"
      ]
    },
    {
      "cell_type": "code",
      "source": [
        "import pandas as pd\n",
        "df = pd.read_csv(\"/content/user_behavior_dataset.csv\")\n",
        "\n",
        "#kaggle = https://www.kaggle.com/datasets/valakhorasani/mobile-device-usage-and-user-behavior-dataset"
      ],
      "metadata": {
        "id": "aHaP_fQSBBe8"
      },
      "execution_count": null,
      "outputs": []
    },
    {
      "cell_type": "code",
      "source": [
        "print('Head: \\n',df.head())\n",
        "print('\\n-----------------------------------------------------\\n')\n",
        "print('Tail: \\n',df.tail())"
      ],
      "metadata": {
        "colab": {
          "base_uri": "https://localhost:8080/"
        },
        "id": "CKWIjCMpGcHv",
        "outputId": "83b96187-6f1c-4047-ac02-1e87b117cadb"
      },
      "execution_count": null,
      "outputs": [
        {
          "output_type": "stream",
          "name": "stdout",
          "text": [
            "Head: \n",
            "    User ID    Device Model Operating System  App Usage Time (min/day)  \\\n",
            "0        1  Google Pixel 5          Android                       393   \n",
            "1        2       OnePlus 9          Android                       268   \n",
            "2        3    Xiaomi Mi 11          Android                       154   \n",
            "3        4  Google Pixel 5          Android                       239   \n",
            "4        5       iPhone 12              iOS                       187   \n",
            "\n",
            "   Screen On Time (hours/day)  Battery Drain (mAh/day)  \\\n",
            "0                         6.4                     1872   \n",
            "1                         4.7                     1331   \n",
            "2                         4.0                      761   \n",
            "3                         4.8                     1676   \n",
            "4                         4.3                     1367   \n",
            "\n",
            "   Number of Apps Installed  Data Usage (MB/day)  Age  Gender  \\\n",
            "0                        67                 1122   40    Male   \n",
            "1                        42                  944   47  Female   \n",
            "2                        32                  322   42    Male   \n",
            "3                        56                  871   20    Male   \n",
            "4                        58                  988   31  Female   \n",
            "\n",
            "   User Behavior Class  \n",
            "0                    4  \n",
            "1                    3  \n",
            "2                    2  \n",
            "3                    3  \n",
            "4                    3  \n",
            "\n",
            "-----------------------------------------------------\n",
            "\n",
            "Tail: \n",
            "      User ID        Device Model Operating System  App Usage Time (min/day)  \\\n",
            "695      696           iPhone 12              iOS                        92   \n",
            "696      697        Xiaomi Mi 11          Android                       316   \n",
            "697      698      Google Pixel 5          Android                        99   \n",
            "698      699  Samsung Galaxy S21          Android                        62   \n",
            "699      700           OnePlus 9          Android                       212   \n",
            "\n",
            "     Screen On Time (hours/day)  Battery Drain (mAh/day)  \\\n",
            "695                         3.9                     1082   \n",
            "696                         6.8                     1965   \n",
            "697                         3.1                      942   \n",
            "698                         1.7                      431   \n",
            "699                         5.4                     1306   \n",
            "\n",
            "     Number of Apps Installed  Data Usage (MB/day)  Age  Gender  \\\n",
            "695                        26                  381   22    Male   \n",
            "696                        68                 1201   59    Male   \n",
            "697                        22                  457   50  Female   \n",
            "698                        13                  224   44    Male   \n",
            "699                        49                  828   23  Female   \n",
            "\n",
            "     User Behavior Class  \n",
            "695                    2  \n",
            "696                    4  \n",
            "697                    2  \n",
            "698                    1  \n",
            "699                    3  \n"
          ]
        }
      ]
    },
    {
      "cell_type": "code",
      "source": [
        "df.info()"
      ],
      "metadata": {
        "colab": {
          "base_uri": "https://localhost:8080/"
        },
        "id": "XS_wsUeqOmS1",
        "outputId": "378e23a4-25b0-4387-e1df-a7d0b5e8e34f"
      },
      "execution_count": null,
      "outputs": [
        {
          "output_type": "stream",
          "name": "stdout",
          "text": [
            "<class 'pandas.core.frame.DataFrame'>\n",
            "RangeIndex: 700 entries, 0 to 699\n",
            "Data columns (total 11 columns):\n",
            " #   Column                      Non-Null Count  Dtype  \n",
            "---  ------                      --------------  -----  \n",
            " 0   User ID                     700 non-null    int64  \n",
            " 1   Device Model                700 non-null    object \n",
            " 2   Operating System            700 non-null    object \n",
            " 3   App Usage Time (min/day)    700 non-null    int64  \n",
            " 4   Screen On Time (hours/day)  700 non-null    float64\n",
            " 5   Battery Drain (mAh/day)     700 non-null    int64  \n",
            " 6   Number of Apps Installed    700 non-null    int64  \n",
            " 7   Data Usage (MB/day)         700 non-null    int64  \n",
            " 8   Age                         700 non-null    int64  \n",
            " 9   Gender                      700 non-null    object \n",
            " 10  User Behavior Class         700 non-null    int64  \n",
            "dtypes: float64(1), int64(7), object(3)\n",
            "memory usage: 60.3+ KB\n"
          ]
        }
      ]
    },
    {
      "cell_type": "code",
      "source": [
        "\n",
        "print(df['Device Model'].unique())"
      ],
      "metadata": {
        "colab": {
          "base_uri": "https://localhost:8080/"
        },
        "id": "agZb4y5HdjCE",
        "outputId": "67930f2d-17c5-47af-e72f-d4be53eec892"
      },
      "execution_count": null,
      "outputs": [
        {
          "output_type": "stream",
          "name": "stdout",
          "text": [
            "['Google Pixel 5' 'OnePlus 9' 'Xiaomi Mi 11' 'iPhone 12'\n",
            " 'Samsung Galaxy S21']\n"
          ]
        }
      ]
    },
    {
      "cell_type": "code",
      "source": [
        "print(df['Operating System'].unique())"
      ],
      "metadata": {
        "colab": {
          "base_uri": "https://localhost:8080/"
        },
        "id": "hdC-F28jd8LX",
        "outputId": "c538125b-e496-427d-e21f-c38da63872e1"
      },
      "execution_count": null,
      "outputs": [
        {
          "output_type": "stream",
          "name": "stdout",
          "text": [
            "['Android' 'iOS']\n"
          ]
        }
      ]
    },
    {
      "cell_type": "code",
      "source": [
        "print(df['Gender'].unique())"
      ],
      "metadata": {
        "colab": {
          "base_uri": "https://localhost:8080/"
        },
        "id": "IVVGitzLt6j6",
        "outputId": "457eb6a6-6826-43df-e680-a8383df4d340"
      },
      "execution_count": null,
      "outputs": [
        {
          "output_type": "stream",
          "name": "stdout",
          "text": [
            "['Male' 'Female']\n"
          ]
        }
      ]
    },
    {
      "cell_type": "markdown",
      "source": [
        "# visualization"
      ],
      "metadata": {
        "id": "h3hejRSEAiRy"
      }
    },
    {
      "cell_type": "code",
      "source": [
        "# scatter plot matrix\n",
        "import seaborn as sns\n",
        "import matplotlib.pyplot as plt\n",
        "\n",
        "selected_columns = ['App Usage Time (min/day)', 'Screen On Time (hours/day)', 'Data Usage (MB/day)']\n",
        "\n",
        "# Creating a pairplot (scatter plot matrix)\n",
        "sns.pairplot(df[selected_columns], diag_kind='kde', corner=True)\n",
        "plt.suptitle('Scatter Plot Matrix ', y=1.02)\n",
        "plt.show()\n",
        "\n",
        "#pd.plotting.scatter_matrix(df)\n",
        "#plt.show()"
      ],
      "metadata": {
        "colab": {
          "base_uri": "https://localhost:8080/",
          "height": 787
        },
        "id": "8CvUBVzvAnF-",
        "outputId": "81ae724f-833e-4c7a-ccde-82b78b7f4fdb"
      },
      "execution_count": null,
      "outputs": [
        {
          "output_type": "display_data",
          "data": {
            "text/plain": [
              "<Figure size 750x750 with 9 Axes>"
            ],
            "image/png": "[encoded data removed]"
          },
          "metadata": {}
        }
      ]
    },
    {
      "cell_type": "code",
      "source": [
        "plt.figure(figsize=(10, 6))\n",
        "\n",
        "# Create a boxplot\n",
        "sns.boxplot(x='App Usage Time (min/day)', y='User Behavior Class', data=df, orient='h')\n",
        "plt.title('Boxplot of App Usage Time (min/day) by User Behavior Class')\n",
        "plt.xlabel('App Usage Time (min/day)')\n",
        "plt.ylabel('User Behavior Class')\n",
        "plt.show()"
      ],
      "metadata": {
        "colab": {
          "base_uri": "https://localhost:8080/",
          "height": 564
        },
        "id": "r8g1bygrBGOw",
        "outputId": "a355656d-6947-4258-ce0f-515f371300e5"
      },
      "execution_count": null,
      "outputs": [
        {
          "output_type": "display_data",
          "data": {
            "text/plain": [
              "<Figure size 1000x600 with 1 Axes>"
            ],
            "image/png": "[encoded data removed]"
          },
          "metadata": {}
        }
      ]
    },
    {
      "cell_type": "markdown",
      "source": [
        "# correlation"
      ],
      "metadata": {
        "id": "65dt_nkLDuwv"
      }
    },
    {
      "cell_type": "code",
      "source": [
        "df1=df.loc[:,['App Usage Time (min/day)','Screen On Time (hours/day)','Data Usage (MB/day)','Battery Drain (mAh/day)','Number of Apps Installed','User Behavior Class']]\n",
        "df1"
      ],
      "metadata": {
        "colab": {
          "base_uri": "https://localhost:8080/",
          "height": 424
        },
        "id": "I8vAlIwtNu8n",
        "outputId": "b7bcfb01-b79b-4e23-aef3-1faa90212af5"
      },
      "execution_count": null,
      "outputs": [
        {
          "output_type": "execute_result",
          "data": {
            "text/plain": [
              "     App Usage Time (min/day)  Screen On Time (hours/day)  \\\n",
              "0                         393                         6.4   \n",
              "1                         268                         4.7   \n",
              "2                         154                         4.0   \n",
              "3                         239                         4.8   \n",
              "4                         187                         4.3   \n",
              "..                        ...                         ...   \n",
              "695                        92                         3.9   \n",
              "696                       316                         6.8   \n",
              "697                        99                         3.1   \n",
              "698                        62                         1.7   \n",
              "699                       212                         5.4   \n",
              "\n",
              "     Data Usage (MB/day)  Battery Drain (mAh/day)  Number of Apps Installed  \\\n",
              "0                   1122                     1872                        67   \n",
              "1                    944                     1331                        42   \n",
              "2                    322                      761                        32   \n",
              "3                    871                     1676                        56   \n",
              "4                    988                     1367                        58   \n",
              "..                   ...                      ...                       ...   \n",
              "695                  381                     1082                        26   \n",
              "696                 1201                     1965                        68   \n",
              "697                  457                      942                        22   \n",
              "698                  224                      431                        13   \n",
              "699                  828                     1306                        49   \n",
              "\n",
              "     User Behavior Class  \n",
              "0                      4  \n",
              "1                      3  \n",
              "2                      2  \n",
              "3                      3  \n",
              "4                      3  \n",
              "..                   ...  \n",
              "695                    2  \n",
              "696                    4  \n",
              "697                    2  \n",
              "698                    1  \n",
              "699                    3  \n",
              "\n",
              "[700 rows x 6 columns]"
            ],
            "text/html": [
              "\n",
              "  <div id=\"df-046ce872-0e89-4df8-b1e6-943470b23a43\" class=\"colab-df-container\">\n",
              "    <div>\n",
              "<style scoped>\n",
              "    .dataframe tbody tr th:only-of-type {\n",
              "        vertical-align: middle;\n",
              "    }\n",
              "\n",
              "    .dataframe tbody tr th {\n",
              "        vertical-align: top;\n",
              "    }\n",
              "\n",
              "    .dataframe thead th {\n",
              "        text-align: right;\n",
              "    }\n",
              "</style>\n",
              "<table border=\"1\" class=\"dataframe\">\n",
              "  <thead>\n",
              "    <tr style=\"text-align: right;\">\n",
              "      <th></th>\n",
              "      <th>App Usage Time (min/day)</th>\n",
              "      <th>Screen On Time (hours/day)</th>\n",
              "      <th>Data Usage (MB/day)</th>\n",
              "      <th>Battery Drain (mAh/day)</th>\n",
              "      <th>Number of Apps Installed</th>\n",
              "      <th>User Behavior Class</th>\n",
              "    </tr>\n",
              "  </thead>\n",
              "  <tbody>\n",
              "    <tr>\n",
              "      <th>0</th>\n",
              "      <td>393</td>\n",
              "      <td>6.4</td>\n",
              "      <td>1122</td>\n",
              "      <td>1872</td>\n",
              "      <td>67</td>\n",
              "      <td>4</td>\n",
              "    </tr>\n",
              "    <tr>\n",
              "      <th>1</th>\n",
              "      <td>268</td>\n",
              "      <td>4.7</td>\n",
              "      <td>944</td>\n",
              "      <td>1331</td>\n",
              "      <td>42</td>\n",
              "      <td>3</td>\n",
              "    </tr>\n",
              "    <tr>\n",
              "      <th>2</th>\n",
              "      <td>154</td>\n",
              "      <td>4.0</td>\n",
              "      <td>322</td>\n",
              "      <td>761</td>\n",
              "      <td>32</td>\n",
              "      <td>2</td>\n",
              "    </tr>\n",
              "    <tr>\n",
              "      <th>3</th>\n",
              "      <td>239</td>\n",
              "      <td>4.8</td>\n",
              "      <td>871</td>\n",
              "      <td>1676</td>\n",
              "      <td>56</td>\n",
              "      <td>3</td>\n",
              "    </tr>\n",
              "    <tr>\n",
              "      <th>4</th>\n",
              "      <td>187</td>\n",
              "      <td>4.3</td>\n",
              "      <td>988</td>\n",
              "      <td>1367</td>\n",
              "      <td>58</td>\n",
              "      <td>3</td>\n",
              "    </tr>\n",
              "    <tr>\n",
              "      <th>...</th>\n",
              "      <td>...</td>\n",
              "      <td>...</td>\n",
              "      <td>...</td>\n",
              "      <td>...</td>\n",
              "      <td>...</td>\n",
              "      <td>...</td>\n",
              "    </tr>\n",
              "    <tr>\n",
              "      <th>695</th>\n",
              "      <td>92</td>\n",
              "      <td>3.9</td>\n",
              "      <td>381</td>\n",
              "      <td>1082</td>\n",
              "      <td>26</td>\n",
              "      <td>2</td>\n",
              "    </tr>\n",
              "    <tr>\n",
              "      <th>696</th>\n",
              "      <td>316</td>\n",
              "      <td>6.8</td>\n",
              "      <td>1201</td>\n",
              "      <td>1965</td>\n",
              "      <td>68</td>\n",
              "      <td>4</td>\n",
              "    </tr>\n",
              "    <tr>\n",
              "      <th>697</th>\n",
              "      <td>99</td>\n",
              "      <td>3.1</td>\n",
              "      <td>457</td>\n",
              "      <td>942</td>\n",
              "      <td>22</td>\n",
              "      <td>2</td>\n",
              "    </tr>\n",
              "    <tr>\n",
              "      <th>698</th>\n",
              "      <td>62</td>\n",
              "      <td>1.7</td>\n",
              "      <td>224</td>\n",
              "      <td>431</td>\n",
              "      <td>13</td>\n",
              "      <td>1</td>\n",
              "    </tr>\n",
              "    <tr>\n",
              "      <th>699</th>\n",
              "      <td>212</td>\n",
              "      <td>5.4</td>\n",
              "      <td>828</td>\n",
              "      <td>1306</td>\n",
              "      <td>49</td>\n",
              "      <td>3</td>\n",
              "    </tr>\n",
              "  </tbody>\n",
              "</table>\n",
              "<p>700 rows × 6 columns</p>\n",
              "</div>\n",
              "    <div class=\"colab-df-buttons\">\n",
              "\n",
              "  <div class=\"colab-df-container\">\n",
              "    <button class=\"colab-df-convert\" onclick=\"convertToInteractive('df-046ce872-0e89-4df8-b1e6-943470b23a43')\"\n",
              "            title=\"Convert this dataframe to an interactive table.\"\n",
              "            style=\"display:none;\">\n",
              "\n",
              "  <svg xmlns=\"http://www.w3.org/2000/svg\" height=\"24px\" viewBox=\"0 -960 960 960\">\n",
              "    <path d=\"M120-120v-720h720v720H120Zm60-500h600v-160H180v160Zm220 220h160v-160H400v160Zm0 220h160v-160H400v160ZM180-400h160v-160H180v160Zm440 0h160v-160H620v160ZM180-180h160v-160H180v160Zm440 0h160v-160H620v160Z\"/>\n",
              "  </svg>\n",
              "    </button>\n",
              "\n",
              "  <style>\n",
              "    .colab-df-container {\n",
              "      display:flex;\n",
              "      gap: 12px;\n",
              "    }\n",
              "\n",
              "    .colab-df-convert {\n",
              "      background-color: #E8F0FE;\n",
              "      border: none;\n",
              "      border-radius: 50%;\n",
              "      cursor: pointer;\n",
              "      display: none;\n",
              "      fill: #1967D2;\n",
              "      height: 32px;\n",
              "      padding: 0 0 0 0;\n",
              "      width: 32px;\n",
              "    }\n",
              "\n",
              "    .colab-df-convert:hover {\n",
              "      background-color: #E2EBFA;\n",
              "      box-shadow: 0px 1px 2px rgba(60, 64, 67, 0.3), 0px 1px 3px 1px rgba(60, 64, 67, 0.15);\n",
              "      fill: #174EA6;\n",
              "    }\n",
              "\n",
              "    .colab-df-buttons div {\n",
              "      margin-bottom: 4px;\n",
              "    }\n",
              "\n",
              "    [theme=dark] .colab-df-convert {\n",
              "      background-color: #3B4455;\n",
              "      fill: #D2E3FC;\n",
              "    }\n",
              "\n",
              "    [theme=dark] .colab-df-convert:hover {\n",
              "      background-color: #434B5C;\n",
              "      box-shadow: 0px 1px 3px 1px rgba(0, 0, 0, 0.15);\n",
              "      filter: drop-shadow(0px 1px 2px rgba(0, 0, 0, 0.3));\n",
              "      fill: #FFFFFF;\n",
              "    }\n",
              "  </style>\n",
              "\n",
              "    <script>\n",
              "      const buttonEl =\n",
              "        document.querySelector('#df-046ce872-0e89-4df8-b1e6-943470b23a43 button.colab-df-convert');\n",
              "      buttonEl.style.display =\n",
              "        google.colab.kernel.accessAllowed ? 'block' : 'none';\n",
              "\n",
              "      async function convertToInteractive(key) {\n",
              "        const element = document.querySelector('#df-046ce872-0e89-4df8-b1e6-943470b23a43');\n",
              "        const dataTable =\n",
              "          await google.colab.kernel.invokeFunction('convertToInteractive',\n",
              "                                                    [key], {});\n",
              "        if (!dataTable) return;\n",
              "\n",
              "        const docLinkHtml = 'Like what you see? Visit the ' +\n",
              "          '<a target=\"_blank\" href=https://colab.research.google.com/notebooks/data_table.ipynb>data table notebook</a>'\n",
              "          + ' to learn more about interactive tables.';\n",
              "        element.innerHTML = '';\n",
              "        dataTable['output_type'] = 'display_data';\n",
              "        await google.colab.output.renderOutput(dataTable, element);\n",
              "        const docLink = document.createElement('div');\n",
              "        docLink.innerHTML = docLinkHtml;\n",
              "        element.appendChild(docLink);\n",
              "      }\n",
              "    </script>\n",
              "  </div>\n",
              "\n",
              "\n",
              "<div id=\"df-b5b0128c-333c-4c72-95db-4d85277989bd\">\n",
              "  <button class=\"colab-df-quickchart\" onclick=\"quickchart('df-b5b0128c-333c-4c72-95db-4d85277989bd')\"\n",
              "            title=\"Suggest charts\"\n",
              "            style=\"display:none;\">\n",
              "\n",
              "<svg xmlns=\"http://www.w3.org/2000/svg\" height=\"24px\"viewBox=\"0 0 24 24\"\n",
              "     width=\"24px\">\n",
              "    <g>\n",
              "        <path d=\"M19 3H5c-1.1 0-2 .9-2 2v14c0 1.1.9 2 2 2h14c1.1 0 2-.9 2-2V5c0-1.1-.9-2-2-2zM9 17H7v-7h2v7zm4 0h-2V7h2v10zm4 0h-2v-4h2v4z\"/>\n",
              "    </g>\n",
              "</svg>\n",
              "  </button>\n",
              "\n",
              "<style>\n",
              "  .colab-df-quickchart {\n",
              "      --bg-color: #E8F0FE;\n",
              "      --fill-color: #1967D2;\n",
              "      --hover-bg-color: #E2EBFA;\n",
              "      --hover-fill-color: #174EA6;\n",
              "      --disabled-fill-color: #AAA;\n",
              "      --disabled-bg-color: #DDD;\n",
              "  }\n",
              "\n",
              "  [theme=dark] .colab-df-quickchart {\n",
              "      --bg-color: #3B4455;\n",
              "      --fill-color: #D2E3FC;\n",
              "      --hover-bg-color: #434B5C;\n",
              "      --hover-fill-color: #FFFFFF;\n",
              "      --disabled-bg-color: #3B4455;\n",
              "      --disabled-fill-color: #666;\n",
              "  }\n",
              "\n",
              "  .colab-df-quickchart {\n",
              "    background-color: var(--bg-color);\n",
              "    border: none;\n",
              "    border-radius: 50%;\n",
              "    cursor: pointer;\n",
              "    display: none;\n",
              "    fill: var(--fill-color);\n",
              "    height: 32px;\n",
              "    padding: 0;\n",
              "    width: 32px;\n",
              "  }\n",
              "\n",
              "  .colab-df-quickchart:hover {\n",
              "    background-color: var(--hover-bg-color);\n",
              "    box-shadow: 0 1px 2px rgba(60, 64, 67, 0.3), 0 1px 3px 1px rgba(60, 64, 67, 0.15);\n",
              "    fill: var(--button-hover-fill-color);\n",
              "  }\n",
              "\n",
              "  .colab-df-quickchart-complete:disabled,\n",
              "  .colab-df-quickchart-complete:disabled:hover {\n",
              "    background-color: var(--disabled-bg-color);\n",
              "    fill: var(--disabled-fill-color);\n",
              "    box-shadow: none;\n",
              "  }\n",
              "\n",
              "  .colab-df-spinner {\n",
              "    border: 2px solid var(--fill-color);\n",
              "    border-color: transparent;\n",
              "    border-bottom-color: var(--fill-color);\n",
              "    animation:\n",
              "      spin 1s steps(1) infinite;\n",
              "  }\n",
              "\n",
              "  @keyframes spin {\n",
              "    0% {\n",
              "      border-color: transparent;\n",
              "      border-bottom-color: var(--fill-color);\n",
              "      border-left-color: var(--fill-color);\n",
              "    }\n",
              "    20% {\n",
              "      border-color: transparent;\n",
              "      border-left-color: var(--fill-color);\n",
              "      border-top-color: var(--fill-color);\n",
              "    }\n",
              "    30% {\n",
              "      border-color: transparent;\n",
              "      border-left-color: var(--fill-color);\n",
              "      border-top-color: var(--fill-color);\n",
              "      border-right-color: var(--fill-color);\n",
              "    }\n",
              "    40% {\n",
              "      border-color: transparent;\n",
              "      border-right-color: var(--fill-color);\n",
              "      border-top-color: var(--fill-color);\n",
              "    }\n",
              "    60% {\n",
              "      border-color: transparent;\n",
              "      border-right-color: var(--fill-color);\n",
              "    }\n",
              "    80% {\n",
              "      border-color: transparent;\n",
              "      border-right-color: var(--fill-color);\n",
              "      border-bottom-color: var(--fill-color);\n",
              "    }\n",
              "    90% {\n",
              "      border-color: transparent;\n",
              "      border-bottom-color: var(--fill-color);\n",
              "    }\n",
              "  }\n",
              "</style>\n",
              "\n",
              "  <script>\n",
              "    async function quickchart(key) {\n",
              "      const quickchartButtonEl =\n",
              "        document.querySelector('#' + key + ' button');\n",
              "      quickchartButtonEl.disabled = true;  // To prevent multiple clicks.\n",
              "      quickchartButtonEl.classList.add('colab-df-spinner');\n",
              "      try {\n",
              "        const charts = await google.colab.kernel.invokeFunction(\n",
              "            'suggestCharts', [key], {});\n",
              "      } catch (error) {\n",
              "        console.error('Error during call to suggestCharts:', error);\n",
              "      }\n",
              "      quickchartButtonEl.classList.remove('colab-df-spinner');\n",
              "      quickchartButtonEl.classList.add('colab-df-quickchart-complete');\n",
              "    }\n",
              "    (() => {\n",
              "      let quickchartButtonEl =\n",
              "        document.querySelector('#df-b5b0128c-333c-4c72-95db-4d85277989bd button');\n",
              "      quickchartButtonEl.style.display =\n",
              "        google.colab.kernel.accessAllowed ? 'block' : 'none';\n",
              "    })();\n",
              "  </script>\n",
              "</div>\n",
              "\n",
              "  <div id=\"id_c57b7738-d146-4640-ad42-538c7a9d9753\">\n",
              "    <style>\n",
              "      .colab-df-generate {\n",
              "        background-color: #E8F0FE;\n",
              "        border: none;\n",
              "        border-radius: 50%;\n",
              "        cursor: pointer;\n",
              "        display: none;\n",
              "        fill: #1967D2;\n",
              "        height: 32px;\n",
              "        padding: 0 0 0 0;\n",
              "        width: 32px;\n",
              "      }\n",
              "\n",
              "      .colab-df-generate:hover {\n",
              "        background-color: #E2EBFA;\n",
              "        box-shadow: 0px 1px 2px rgba(60, 64, 67, 0.3), 0px 1px 3px 1px rgba(60, 64, 67, 0.15);\n",
              "        fill: #174EA6;\n",
              "      }\n",
              "\n",
              "      [theme=dark] .colab-df-generate {\n",
              "        background-color: #3B4455;\n",
              "        fill: #D2E3FC;\n",
              "      }\n",
              "\n",
              "      [theme=dark] .colab-df-generate:hover {\n",
              "        background-color: #434B5C;\n",
              "        box-shadow: 0px 1px 3px 1px rgba(0, 0, 0, 0.15);\n",
              "        filter: drop-shadow(0px 1px 2px rgba(0, 0, 0, 0.3));\n",
              "        fill: #FFFFFF;\n",
              "      }\n",
              "    </style>\n",
              "    <button class=\"colab-df-generate\" onclick=\"generateWithVariable('df1')\"\n",
              "            title=\"Generate code using this dataframe.\"\n",
              "            style=\"display:none;\">\n",
              "\n",
              "  <svg xmlns=\"http://www.w3.org/2000/svg\" height=\"24px\"viewBox=\"0 0 24 24\"\n",
              "       width=\"24px\">\n",
              "    <path d=\"M7,19H8.4L18.45,9,17,7.55,7,17.6ZM5,21V16.75L18.45,3.32a2,2,0,0,1,2.83,0l1.4,1.43a1.91,1.91,0,0,1,.58,1.4,1.91,1.91,0,0,1-.58,1.4L9.25,21ZM18.45,9,17,7.55Zm-12,3A5.31,5.31,0,0,0,4.9,8.1,5.31,5.31,0,0,0,1,6.5,5.31,5.31,0,0,0,4.9,4.9,5.31,5.31,0,0,0,6.5,1,5.31,5.31,0,0,0,8.1,4.9,5.31,5.31,0,0,0,12,6.5,5.46,5.46,0,0,0,6.5,12Z\"/>\n",
              "  </svg>\n",
              "    </button>\n",
              "    <script>\n",
              "      (() => {\n",
              "      const buttonEl =\n",
              "        document.querySelector('#id_c57b7738-d146-4640-ad42-538c7a9d9753 button.colab-df-generate');\n",
              "      buttonEl.style.display =\n",
              "        google.colab.kernel.accessAllowed ? 'block' : 'none';\n",
              "\n",
              "      buttonEl.onclick = () => {\n",
              "        google.colab.notebook.generateWithVariable('df1');\n",
              "      }\n",
              "      })();\n",
              "    </script>\n",
              "  </div>\n",
              "\n",
              "    </div>\n",
              "  </div>\n"
            ],
            "application/vnd.google.colaboratory.intrinsic+json": {
              "type": "dataframe",
              "variable_name": "df1",
              "summary": "{\n  \"name\": \"df1\",\n  \"rows\": 700,\n  \"fields\": [\n    {\n      \"column\": \"App Usage Time (min/day)\",\n      \"properties\": {\n        \"dtype\": \"number\",\n        \"std\": 177,\n        \"min\": 30,\n        \"max\": 598,\n        \"num_unique_values\": 387,\n        \"samples\": [\n          582,\n          402,\n          183\n        ],\n        \"semantic_type\": \"\",\n        \"description\": \"\"\n      }\n    },\n    {\n      \"column\": \"Screen On Time (hours/day)\",\n      \"properties\": {\n        \"dtype\": \"number\",\n        \"std\": 3.068583910273257,\n        \"min\": 1.0,\n        \"max\": 12.0,\n        \"num_unique_values\": 108,\n        \"samples\": [\n          10.8,\n          1.4,\n          4.3\n        ],\n        \"semantic_type\": \"\",\n        \"description\": \"\"\n      }\n    },\n    {\n      \"column\": \"Data Usage (MB/day)\",\n      \"properties\": {\n        \"dtype\": \"number\",\n        \"std\": 640,\n        \"min\": 102,\n        \"max\": 2497,\n        \"num_unique_values\": 585,\n        \"samples\": [\n          839,\n          765,\n          1946\n        ],\n        \"semantic_type\": \"\",\n        \"description\": \"\"\n      }\n    },\n    {\n      \"column\": \"Battery Drain (mAh/day)\",\n      \"properties\": {\n        \"dtype\": \"number\",\n        \"std\": 819,\n        \"min\": 302,\n        \"max\": 2993,\n        \"num_unique_values\": 628,\n        \"samples\": [\n          2597,\n          1632,\n          545\n        ],\n        \"semantic_type\": \"\",\n        \"description\": \"\"\n      }\n    },\n    {\n      \"column\": \"Number of Apps Installed\",\n      \"properties\": {\n        \"dtype\": \"number\",\n        \"std\": 26,\n        \"min\": 10,\n        \"max\": 99,\n        \"num_unique_values\": 86,\n        \"samples\": [\n          79,\n          67,\n          68\n        ],\n        \"semantic_type\": \"\",\n        \"description\": \"\"\n      }\n    },\n    {\n      \"column\": \"User Behavior Class\",\n      \"properties\": {\n        \"dtype\": \"number\",\n        \"std\": 1,\n        \"min\": 1,\n        \"max\": 5,\n        \"num_unique_values\": 5,\n        \"samples\": [\n          3,\n          1,\n          2\n        ],\n        \"semantic_type\": \"\",\n        \"description\": \"\"\n      }\n    }\n  ]\n}"
            }
          },
          "metadata": {},
          "execution_count": 10
        }
      ]
    },
    {
      "cell_type": "code",
      "source": [
        "corr_matrix=df1.corr()\n",
        "\n",
        "corr_matrix"
      ],
      "metadata": {
        "id": "63ORLoAHm0N5",
        "colab": {
          "base_uri": "https://localhost:8080/",
          "height": 272
        },
        "outputId": "1a92fcc8-05b3-487a-dffa-9d3ef9b8f79b"
      },
      "execution_count": null,
      "outputs": [
        {
          "output_type": "execute_result",
          "data": {
            "text/plain": [
              "                            App Usage Time (min/day)  \\\n",
              "App Usage Time (min/day)                    1.000000   \n",
              "Screen On Time (hours/day)                  0.950333   \n",
              "Data Usage (MB/day)                         0.942308   \n",
              "Battery Drain (mAh/day)                     0.956385   \n",
              "Number of Apps Installed                    0.955253   \n",
              "User Behavior Class                         0.970498   \n",
              "\n",
              "                            Screen On Time (hours/day)  Data Usage (MB/day)  \\\n",
              "App Usage Time (min/day)                      0.950333             0.942308   \n",
              "Screen On Time (hours/day)                    1.000000             0.941322   \n",
              "Data Usage (MB/day)                           0.941322             1.000000   \n",
              "Battery Drain (mAh/day)                       0.948983             0.932276   \n",
              "Number of Apps Installed                      0.946975             0.934800   \n",
              "User Behavior Class                           0.964581             0.946734   \n",
              "\n",
              "                            Battery Drain (mAh/day)  Number of Apps Installed  \\\n",
              "App Usage Time (min/day)                   0.956385                  0.955253   \n",
              "Screen On Time (hours/day)                 0.948983                  0.946975   \n",
              "Data Usage (MB/day)                        0.932276                  0.934800   \n",
              "Battery Drain (mAh/day)                    1.000000                  0.961853   \n",
              "Number of Apps Installed                   0.961853                  1.000000   \n",
              "User Behavior Class                        0.978587                  0.981255   \n",
              "\n",
              "                            User Behavior Class  \n",
              "App Usage Time (min/day)               0.970498  \n",
              "Screen On Time (hours/day)             0.964581  \n",
              "Data Usage (MB/day)                    0.946734  \n",
              "Battery Drain (mAh/day)                0.978587  \n",
              "Number of Apps Installed               0.981255  \n",
              "User Behavior Class                    1.000000  "
            ],
            "text/html": [
              "\n",
              "  <div id=\"df-12e51d09-86b6-4a72-9b5d-fa547cdf4e60\" class=\"colab-df-container\">\n",
              "    <div>\n",
              "<style scoped>\n",
              "    .dataframe tbody tr th:only-of-type {\n",
              "        vertical-align: middle;\n",
              "    }\n",
              "\n",
              "    .dataframe tbody tr th {\n",
              "        vertical-align: top;\n",
              "    }\n",
              "\n",
              "    .dataframe thead th {\n",
              "        text-align: right;\n",
              "    }\n",
              "</style>\n",
              "<table border=\"1\" class=\"dataframe\">\n",
              "  <thead>\n",
              "    <tr style=\"text-align: right;\">\n",
              "      <th></th>\n",
              "      <th>App Usage Time (min/day)</th>\n",
              "      <th>Screen On Time (hours/day)</th>\n",
              "      <th>Data Usage (MB/day)</th>\n",
              "      <th>Battery Drain (mAh/day)</th>\n",
              "      <th>Number of Apps Installed</th>\n",
              "      <th>User Behavior Class</th>\n",
              "    </tr>\n",
              "  </thead>\n",
              "  <tbody>\n",
              "    <tr>\n",
              "      <th>App Usage Time (min/day)</th>\n",
              "      <td>1.000000</td>\n",
              "      <td>0.950333</td>\n",
              "      <td>0.942308</td>\n",
              "      <td>0.956385</td>\n",
              "      <td>0.955253</td>\n",
              "      <td>0.970498</td>\n",
              "    </tr>\n",
              "    <tr>\n",
              "      <th>Screen On Time (hours/day)</th>\n",
              "      <td>0.950333</td>\n",
              "      <td>1.000000</td>\n",
              "      <td>0.941322</td>\n",
              "      <td>0.948983</td>\n",
              "      <td>0.946975</td>\n",
              "      <td>0.964581</td>\n",
              "    </tr>\n",
              "    <tr>\n",
              "      <th>Data Usage (MB/day)</th>\n",
              "      <td>0.942308</td>\n",
              "      <td>0.941322</td>\n",
              "      <td>1.000000</td>\n",
              "      <td>0.932276</td>\n",
              "      <td>0.934800</td>\n",
              "      <td>0.946734</td>\n",
              "    </tr>\n",
              "    <tr>\n",
              "      <th>Battery Drain (mAh/day)</th>\n",
              "      <td>0.956385</td>\n",
              "      <td>0.948983</td>\n",
              "      <td>0.932276</td>\n",
              "      <td>1.000000</td>\n",
              "      <td>0.961853</td>\n",
              "      <td>0.978587</td>\n",
              "    </tr>\n",
              "    <tr>\n",
              "      <th>Number of Apps Installed</th>\n",
              "      <td>0.955253</td>\n",
              "      <td>0.946975</td>\n",
              "      <td>0.934800</td>\n",
              "      <td>0.961853</td>\n",
              "      <td>1.000000</td>\n",
              "      <td>0.981255</td>\n",
              "    </tr>\n",
              "    <tr>\n",
              "      <th>User Behavior Class</th>\n",
              "      <td>0.970498</td>\n",
              "      <td>0.964581</td>\n",
              "      <td>0.946734</td>\n",
              "      <td>0.978587</td>\n",
              "      <td>0.981255</td>\n",
              "      <td>1.000000</td>\n",
              "    </tr>\n",
              "  </tbody>\n",
              "</table>\n",
              "</div>\n",
              "    <div class=\"colab-df-buttons\">\n",
              "\n",
              "  <div class=\"colab-df-container\">\n",
              "    <button class=\"colab-df-convert\" onclick=\"convertToInteractive('df-12e51d09-86b6-4a72-9b5d-fa547cdf4e60')\"\n",
              "            title=\"Convert this dataframe to an interactive table.\"\n",
              "            style=\"display:none;\">\n",
              "\n",
              "  <svg xmlns=\"http://www.w3.org/2000/svg\" height=\"24px\" viewBox=\"0 -960 960 960\">\n",
              "    <path d=\"M120-120v-720h720v720H120Zm60-500h600v-160H180v160Zm220 220h160v-160H400v160Zm0 220h160v-160H400v160ZM180-400h160v-160H180v160Zm440 0h160v-160H620v160ZM180-180h160v-160H180v160Zm440 0h160v-160H620v160Z\"/>\n",
              "  </svg>\n",
              "    </button>\n",
              "\n",
              "  <style>\n",
              "    .colab-df-container {\n",
              "      display:flex;\n",
              "      gap: 12px;\n",
              "    }\n",
              "\n",
              "    .colab-df-convert {\n",
              "      background-color: #E8F0FE;\n",
              "      border: none;\n",
              "      border-radius: 50%;\n",
              "      cursor: pointer;\n",
              "      display: none;\n",
              "      fill: #1967D2;\n",
              "      height: 32px;\n",
              "      padding: 0 0 0 0;\n",
              "      width: 32px;\n",
              "    }\n",
              "\n",
              "    .colab-df-convert:hover {\n",
              "      background-color: #E2EBFA;\n",
              "      box-shadow: 0px 1px 2px rgba(60, 64, 67, 0.3), 0px 1px 3px 1px rgba(60, 64, 67, 0.15);\n",
              "      fill: #174EA6;\n",
              "    }\n",
              "\n",
              "    .colab-df-buttons div {\n",
              "      margin-bottom: 4px;\n",
              "    }\n",
              "\n",
              "    [theme=dark] .colab-df-convert {\n",
              "      background-color: #3B4455;\n",
              "      fill: #D2E3FC;\n",
              "    }\n",
              "\n",
              "    [theme=dark] .colab-df-convert:hover {\n",
              "      background-color: #434B5C;\n",
              "      box-shadow: 0px 1px 3px 1px rgba(0, 0, 0, 0.15);\n",
              "      filter: drop-shadow(0px 1px 2px rgba(0, 0, 0, 0.3));\n",
              "      fill: #FFFFFF;\n",
              "    }\n",
              "  </style>\n",
              "\n",
              "    <script>\n",
              "      const buttonEl =\n",
              "        document.querySelector('#df-12e51d09-86b6-4a72-9b5d-fa547cdf4e60 button.colab-df-convert');\n",
              "      buttonEl.style.display =\n",
              "        google.colab.kernel.accessAllowed ? 'block' : 'none';\n",
              "\n",
              "      async function convertToInteractive(key) {\n",
              "        const element = document.querySelector('#df-12e51d09-86b6-4a72-9b5d-fa547cdf4e60');\n",
              "        const dataTable =\n",
              "          await google.colab.kernel.invokeFunction('convertToInteractive',\n",
              "                                                    [key], {});\n",
              "        if (!dataTable) return;\n",
              "\n",
              "        const docLinkHtml = 'Like what you see? Visit the ' +\n",
              "          '<a target=\"_blank\" href=https://colab.research.google.com/notebooks/data_table.ipynb>data table notebook</a>'\n",
              "          + ' to learn more about interactive tables.';\n",
              "        element.innerHTML = '';\n",
              "        dataTable['output_type'] = 'display_data';\n",
              "        await google.colab.output.renderOutput(dataTable, element);\n",
              "        const docLink = document.createElement('div');\n",
              "        docLink.innerHTML = docLinkHtml;\n",
              "        element.appendChild(docLink);\n",
              "      }\n",
              "    </script>\n",
              "  </div>\n",
              "\n",
              "\n",
              "<div id=\"df-952b8ec6-282f-433b-9dfa-1bd32e8106ff\">\n",
              "  <button class=\"colab-df-quickchart\" onclick=\"quickchart('df-952b8ec6-282f-433b-9dfa-1bd32e8106ff')\"\n",
              "            title=\"Suggest charts\"\n",
              "            style=\"display:none;\">\n",
              "\n",
              "<svg xmlns=\"http://www.w3.org/2000/svg\" height=\"24px\"viewBox=\"0 0 24 24\"\n",
              "     width=\"24px\">\n",
              "    <g>\n",
              "        <path d=\"M19 3H5c-1.1 0-2 .9-2 2v14c0 1.1.9 2 2 2h14c1.1 0 2-.9 2-2V5c0-1.1-.9-2-2-2zM9 17H7v-7h2v7zm4 0h-2V7h2v10zm4 0h-2v-4h2v4z\"/>\n",
              "    </g>\n",
              "</svg>\n",
              "  </button>\n",
              "\n",
              "<style>\n",
              "  .colab-df-quickchart {\n",
              "      --bg-color: #E8F0FE;\n",
              "      --fill-color: #1967D2;\n",
              "      --hover-bg-color: #E2EBFA;\n",
              "      --hover-fill-color: #174EA6;\n",
              "      --disabled-fill-color: #AAA;\n",
              "      --disabled-bg-color: #DDD;\n",
              "  }\n",
              "\n",
              "  [theme=dark] .colab-df-quickchart {\n",
              "      --bg-color: #3B4455;\n",
              "      --fill-color: #D2E3FC;\n",
              "      --hover-bg-color: #434B5C;\n",
              "      --hover-fill-color: #FFFFFF;\n",
              "      --disabled-bg-color: #3B4455;\n",
              "      --disabled-fill-color: #666;\n",
              "  }\n",
              "\n",
              "  .colab-df-quickchart {\n",
              "    background-color: var(--bg-color);\n",
              "    border: none;\n",
              "    border-radius: 50%;\n",
              "    cursor: pointer;\n",
              "    display: none;\n",
              "    fill: var(--fill-color);\n",
              "    height: 32px;\n",
              "    padding: 0;\n",
              "    width: 32px;\n",
              "  }\n",
              "\n",
              "  .colab-df-quickchart:hover {\n",
              "    background-color: var(--hover-bg-color);\n",
              "    box-shadow: 0 1px 2px rgba(60, 64, 67, 0.3), 0 1px 3px 1px rgba(60, 64, 67, 0.15);\n",
              "    fill: var(--button-hover-fill-color);\n",
              "  }\n",
              "\n",
              "  .colab-df-quickchart-complete:disabled,\n",
              "  .colab-df-quickchart-complete:disabled:hover {\n",
              "    background-color: var(--disabled-bg-color);\n",
              "    fill: var(--disabled-fill-color);\n",
              "    box-shadow: none;\n",
              "  }\n",
              "\n",
              "  .colab-df-spinner {\n",
              "    border: 2px solid var(--fill-color);\n",
              "    border-color: transparent;\n",
              "    border-bottom-color: var(--fill-color);\n",
              "    animation:\n",
              "      spin 1s steps(1) infinite;\n",
              "  }\n",
              "\n",
              "  @keyframes spin {\n",
              "    0% {\n",
              "      border-color: transparent;\n",
              "      border-bottom-color: var(--fill-color);\n",
              "      border-left-color: var(--fill-color);\n",
              "    }\n",
              "    20% {\n",
              "      border-color: transparent;\n",
              "      border-left-color: var(--fill-color);\n",
              "      border-top-color: var(--fill-color);\n",
              "    }\n",
              "    30% {\n",
              "      border-color: transparent;\n",
              "      border-left-color: var(--fill-color);\n",
              "      border-top-color: var(--fill-color);\n",
              "      border-right-color: var(--fill-color);\n",
              "    }\n",
              "    40% {\n",
              "      border-color: transparent;\n",
              "      border-right-color: var(--fill-color);\n",
              "      border-top-color: var(--fill-color);\n",
              "    }\n",
              "    60% {\n",
              "      border-color: transparent;\n",
              "      border-right-color: var(--fill-color);\n",
              "    }\n",
              "    80% {\n",
              "      border-color: transparent;\n",
              "      border-right-color: var(--fill-color);\n",
              "      border-bottom-color: var(--fill-color);\n",
              "    }\n",
              "    90% {\n",
              "      border-color: transparent;\n",
              "      border-bottom-color: var(--fill-color);\n",
              "    }\n",
              "  }\n",
              "</style>\n",
              "\n",
              "  <script>\n",
              "    async function quickchart(key) {\n",
              "      const quickchartButtonEl =\n",
              "        document.querySelector('#' + key + ' button');\n",
              "      quickchartButtonEl.disabled = true;  // To prevent multiple clicks.\n",
              "      quickchartButtonEl.classList.add('colab-df-spinner');\n",
              "      try {\n",
              "        const charts = await google.colab.kernel.invokeFunction(\n",
              "            'suggestCharts', [key], {});\n",
              "      } catch (error) {\n",
              "        console.error('Error during call to suggestCharts:', error);\n",
              "      }\n",
              "      quickchartButtonEl.classList.remove('colab-df-spinner');\n",
              "      quickchartButtonEl.classList.add('colab-df-quickchart-complete');\n",
              "    }\n",
              "    (() => {\n",
              "      let quickchartButtonEl =\n",
              "        document.querySelector('#df-952b8ec6-282f-433b-9dfa-1bd32e8106ff button');\n",
              "      quickchartButtonEl.style.display =\n",
              "        google.colab.kernel.accessAllowed ? 'block' : 'none';\n",
              "    })();\n",
              "  </script>\n",
              "</div>\n",
              "\n",
              "  <div id=\"id_4b357173-d23a-4901-8589-f69d3c78d9cc\">\n",
              "    <style>\n",
              "      .colab-df-generate {\n",
              "        background-color: #E8F0FE;\n",
              "        border: none;\n",
              "        border-radius: 50%;\n",
              "        cursor: pointer;\n",
              "        display: none;\n",
              "        fill: #1967D2;\n",
              "        height: 32px;\n",
              "        padding: 0 0 0 0;\n",
              "        width: 32px;\n",
              "      }\n",
              "\n",
              "      .colab-df-generate:hover {\n",
              "        background-color: #E2EBFA;\n",
              "        box-shadow: 0px 1px 2px rgba(60, 64, 67, 0.3), 0px 1px 3px 1px rgba(60, 64, 67, 0.15);\n",
              "        fill: #174EA6;\n",
              "      }\n",
              "\n",
              "      [theme=dark] .colab-df-generate {\n",
              "        background-color: #3B4455;\n",
              "        fill: #D2E3FC;\n",
              "      }\n",
              "\n",
              "      [theme=dark] .colab-df-generate:hover {\n",
              "        background-color: #434B5C;\n",
              "        box-shadow: 0px 1px 3px 1px rgba(0, 0, 0, 0.15);\n",
              "        filter: drop-shadow(0px 1px 2px rgba(0, 0, 0, 0.3));\n",
              "        fill: #FFFFFF;\n",
              "      }\n",
              "    </style>\n",
              "    <button class=\"colab-df-generate\" onclick=\"generateWithVariable('corr_matrix')\"\n",
              "            title=\"Generate code using this dataframe.\"\n",
              "            style=\"display:none;\">\n",
              "\n",
              "  <svg xmlns=\"http://www.w3.org/2000/svg\" height=\"24px\"viewBox=\"0 0 24 24\"\n",
              "       width=\"24px\">\n",
              "    <path d=\"M7,19H8.4L18.45,9,17,7.55,7,17.6ZM5,21V16.75L18.45,3.32a2,2,0,0,1,2.83,0l1.4,1.43a1.91,1.91,0,0,1,.58,1.4,1.91,1.91,0,0,1-.58,1.4L9.25,21ZM18.45,9,17,7.55Zm-12,3A5.31,5.31,0,0,0,4.9,8.1,5.31,5.31,0,0,0,1,6.5,5.31,5.31,0,0,0,4.9,4.9,5.31,5.31,0,0,0,6.5,1,5.31,5.31,0,0,0,8.1,4.9,5.31,5.31,0,0,0,12,6.5,5.46,5.46,0,0,0,6.5,12Z\"/>\n",
              "  </svg>\n",
              "    </button>\n",
              "    <script>\n",
              "      (() => {\n",
              "      const buttonEl =\n",
              "        document.querySelector('#id_4b357173-d23a-4901-8589-f69d3c78d9cc button.colab-df-generate');\n",
              "      buttonEl.style.display =\n",
              "        google.colab.kernel.accessAllowed ? 'block' : 'none';\n",
              "\n",
              "      buttonEl.onclick = () => {\n",
              "        google.colab.notebook.generateWithVariable('corr_matrix');\n",
              "      }\n",
              "      })();\n",
              "    </script>\n",
              "  </div>\n",
              "\n",
              "    </div>\n",
              "  </div>\n"
            ],
            "application/vnd.google.colaboratory.intrinsic+json": {
              "type": "dataframe",
              "variable_name": "corr_matrix",
              "summary": "{\n  \"name\": \"corr_matrix\",\n  \"rows\": 6,\n  \"fields\": [\n    {\n      \"column\": \"App Usage Time (min/day)\",\n      \"properties\": {\n        \"dtype\": \"number\",\n        \"std\": 0.02057129396061074,\n        \"min\": 0.942307527662192,\n        \"max\": 1.0,\n        \"num_unique_values\": 6,\n        \"samples\": [\n          1.0,\n          0.9503330357253559,\n          0.9704976788485866\n        ],\n        \"semantic_type\": \"\",\n        \"description\": \"\"\n      }\n    },\n    {\n      \"column\": \"Screen On Time (hours/day)\",\n      \"properties\": {\n        \"dtype\": \"number\",\n        \"std\": 0.021652550472116287,\n        \"min\": 0.9413220178022372,\n        \"max\": 1.0,\n        \"num_unique_values\": 6,\n        \"samples\": [\n          0.9503330357253559,\n          1.0,\n          0.9645808825388907\n        ],\n        \"semantic_type\": \"\",\n        \"description\": \"\"\n      }\n    },\n    {\n      \"column\": \"Data Usage (MB/day)\",\n      \"properties\": {\n        \"dtype\": \"number\",\n        \"std\": 0.025255675014429765,\n        \"min\": 0.9322757642560356,\n        \"max\": 1.0,\n        \"num_unique_values\": 6,\n        \"samples\": [\n          0.942307527662192,\n          0.9413220178022372,\n          0.9467338349891816\n        ],\n        \"semantic_type\": \"\",\n        \"description\": \"\"\n      }\n    },\n    {\n      \"column\": \"Battery Drain (mAh/day)\",\n      \"properties\": {\n        \"dtype\": \"number\",\n        \"std\": 0.023653676910200712,\n        \"min\": 0.9322757642560356,\n        \"max\": 1.0,\n        \"num_unique_values\": 6,\n        \"samples\": [\n          0.9563849528302287,\n          0.9489831361266124,\n          0.9785871211990457\n        ],\n        \"semantic_type\": \"\",\n        \"description\": \"\"\n      }\n    },\n    {\n      \"column\": \"Number of Apps Installed\",\n      \"properties\": {\n        \"dtype\": \"number\",\n        \"std\": 0.023727032684361608,\n        \"min\": 0.9347999754105198,\n        \"max\": 1.0,\n        \"num_unique_values\": 6,\n        \"samples\": [\n          0.9552528344225479,\n          0.946975148790079,\n          0.9812551430848148\n        ],\n        \"semantic_type\": \"\",\n        \"description\": \"\"\n      }\n    },\n    {\n      \"column\": \"User Behavior Class\",\n      \"properties\": {\n        \"dtype\": \"number\",\n        \"std\": 0.01785044421985424,\n        \"min\": 0.9467338349891816,\n        \"max\": 1.0,\n        \"num_unique_values\": 6,\n        \"samples\": [\n          0.9704976788485866,\n          0.9645808825388907,\n          1.0\n        ],\n        \"semantic_type\": \"\",\n        \"description\": \"\"\n      }\n    }\n  ]\n}"
            }
          },
          "metadata": {},
          "execution_count": 11
        }
      ]
    },
    {
      "cell_type": "code",
      "source": [
        "plt.matshow(corr_matrix)\n",
        "plt.colorbar()\n",
        "plt.show()"
      ],
      "metadata": {
        "colab": {
          "base_uri": "https://localhost:8080/",
          "height": 414
        },
        "id": "WODuQ58QOvZm",
        "outputId": "b8493b0e-afe8-4651-947e-1aae5229fc92"
      },
      "execution_count": null,
      "outputs": [
        {
          "output_type": "display_data",
          "data": {
            "text/plain": [
              "<Figure size 480x480 with 2 Axes>"
            ],
            "image/png": "[encoded data removed]"
          },
          "metadata": {}
        }
      ]
    },
    {
      "cell_type": "code",
      "source": [
        "corr_matrix.style.background_gradient(cmap='coolwarm')"
      ],
      "metadata": {
        "colab": {
          "base_uri": "https://localhost:8080/",
          "height": 237
        },
        "id": "ZGwvqZ9nPALt",
        "outputId": "768590f3-35ba-4a24-e95e-e4db93bb2503"
      },
      "execution_count": null,
      "outputs": [
        {
          "output_type": "execute_result",
          "data": {
            "text/plain": [
              "<pandas.io.formats.style.Styler at 0x7bd294ed13f0>"
            ],
            "text/html": [
              "<style type=\"text/css\">\n",
              "#T_d7373_row0_col0, #T_d7373_row1_col1, #T_d7373_row2_col2, #T_d7373_row3_col3, #T_d7373_row4_col4, #T_d7373_row5_col5 {\n",
              "  background-color: #b40426;\n",
              "  color: #f1f1f1;\n",
              "}\n",
              "#T_d7373_row0_col1 {\n",
              "  background-color: #6b8df0;\n",
              "  color: #f1f1f1;\n",
              "}\n",
              "#T_d7373_row0_col2 {\n",
              "  background-color: #688aef;\n",
              "  color: #f1f1f1;\n",
              "}\n",
              "#T_d7373_row0_col3 {\n",
              "  background-color: #b2ccfb;\n",
              "  color: #000000;\n",
              "}\n",
              "#T_d7373_row0_col4 {\n",
              "  background-color: #a3c2fe;\n",
              "  color: #000000;\n",
              "}\n",
              "#T_d7373_row0_col5 {\n",
              "  background-color: #cedaeb;\n",
              "  color: #000000;\n",
              "}\n",
              "#T_d7373_row1_col0 {\n",
              "  background-color: #6687ed;\n",
              "  color: #f1f1f1;\n",
              "}\n",
              "#T_d7373_row1_col2 {\n",
              "  background-color: #6485ec;\n",
              "  color: #f1f1f1;\n",
              "}\n",
              "#T_d7373_row1_col3 {\n",
              "  background-color: #8caffe;\n",
              "  color: #000000;\n",
              "}\n",
              "#T_d7373_row1_col4 {\n",
              "  background-color: #7699f6;\n",
              "  color: #f1f1f1;\n",
              "}\n",
              "#T_d7373_row1_col5 {\n",
              "  background-color: #aac7fd;\n",
              "  color: #000000;\n",
              "}\n",
              "#T_d7373_row2_col0, #T_d7373_row2_col1, #T_d7373_row2_col3, #T_d7373_row2_col4, #T_d7373_row2_col5, #T_d7373_row3_col2 {\n",
              "  background-color: #3b4cc0;\n",
              "  color: #f1f1f1;\n",
              "}\n",
              "#T_d7373_row3_col0 {\n",
              "  background-color: #8badfd;\n",
              "  color: #000000;\n",
              "}\n",
              "#T_d7373_row3_col1 {\n",
              "  background-color: #6384eb;\n",
              "  color: #f1f1f1;\n",
              "}\n",
              "#T_d7373_row3_col4 {\n",
              "  background-color: #c5d6f2;\n",
              "  color: #000000;\n",
              "}\n",
              "#T_d7373_row3_col5 {\n",
              "  background-color: #f2cbb7;\n",
              "  color: #000000;\n",
              "}\n",
              "#T_d7373_row4_col0 {\n",
              "  background-color: #84a7fc;\n",
              "  color: #f1f1f1;\n",
              "}\n",
              "#T_d7373_row4_col1 {\n",
              "  background-color: #5875e1;\n",
              "  color: #f1f1f1;\n",
              "}\n",
              "#T_d7373_row4_col2 {\n",
              "  background-color: #455cce;\n",
              "  color: #f1f1f1;\n",
              "}\n",
              "#T_d7373_row4_col3 {\n",
              "  background-color: #cbd8ee;\n",
              "  color: #000000;\n",
              "}\n",
              "#T_d7373_row4_col5 {\n",
              "  background-color: #f6bea4;\n",
              "  color: #000000;\n",
              "}\n",
              "#T_d7373_row5_col0 {\n",
              "  background-color: #dadce0;\n",
              "  color: #000000;\n",
              "}\n",
              "#T_d7373_row5_col1 {\n",
              "  background-color: #bfd3f6;\n",
              "  color: #000000;\n",
              "}\n",
              "#T_d7373_row5_col2 {\n",
              "  background-color: #80a3fa;\n",
              "  color: #f1f1f1;\n",
              "}\n",
              "#T_d7373_row5_col3 {\n",
              "  background-color: #f7b194;\n",
              "  color: #000000;\n",
              "}\n",
              "#T_d7373_row5_col4 {\n",
              "  background-color: #f7a889;\n",
              "  color: #000000;\n",
              "}\n",
              "</style>\n",
              "<table id=\"T_d7373\" class=\"dataframe\">\n",
              "  <thead>\n",
              "    <tr>\n",
              "      <th class=\"blank level0\" >&nbsp;</th>\n",
              "      <th id=\"T_d7373_level0_col0\" class=\"col_heading level0 col0\" >App Usage Time (min/day)</th>\n",
              "      <th id=\"T_d7373_level0_col1\" class=\"col_heading level0 col1\" >Screen On Time (hours/day)</th>\n",
              "      <th id=\"T_d7373_level0_col2\" class=\"col_heading level0 col2\" >Data Usage (MB/day)</th>\n",
              "      <th id=\"T_d7373_level0_col3\" class=\"col_heading level0 col3\" >Battery Drain (mAh/day)</th>\n",
              "      <th id=\"T_d7373_level0_col4\" class=\"col_heading level0 col4\" >Number of Apps Installed</th>\n",
              "      <th id=\"T_d7373_level0_col5\" class=\"col_heading level0 col5\" >User Behavior Class</th>\n",
              "    </tr>\n",
              "  </thead>\n",
              "  <tbody>\n",
              "    <tr>\n",
              "      <th id=\"T_d7373_level0_row0\" class=\"row_heading level0 row0\" >App Usage Time (min/day)</th>\n",
              "      <td id=\"T_d7373_row0_col0\" class=\"data row0 col0\" >1.000000</td>\n",
              "      <td id=\"T_d7373_row0_col1\" class=\"data row0 col1\" >0.950333</td>\n",
              "      <td id=\"T_d7373_row0_col2\" class=\"data row0 col2\" >0.942308</td>\n",
              "      <td id=\"T_d7373_row0_col3\" class=\"data row0 col3\" >0.956385</td>\n",
              "      <td id=\"T_d7373_row0_col4\" class=\"data row0 col4\" >0.955253</td>\n",
              "      <td id=\"T_d7373_row0_col5\" class=\"data row0 col5\" >0.970498</td>\n",
              "    </tr>\n",
              "    <tr>\n",
              "      <th id=\"T_d7373_level0_row1\" class=\"row_heading level0 row1\" >Screen On Time (hours/day)</th>\n",
              "      <td id=\"T_d7373_row1_col0\" class=\"data row1 col0\" >0.950333</td>\n",
              "      <td id=\"T_d7373_row1_col1\" class=\"data row1 col1\" >1.000000</td>\n",
              "      <td id=\"T_d7373_row1_col2\" class=\"data row1 col2\" >0.941322</td>\n",
              "      <td id=\"T_d7373_row1_col3\" class=\"data row1 col3\" >0.948983</td>\n",
              "      <td id=\"T_d7373_row1_col4\" class=\"data row1 col4\" >0.946975</td>\n",
              "      <td id=\"T_d7373_row1_col5\" class=\"data row1 col5\" >0.964581</td>\n",
              "    </tr>\n",
              "    <tr>\n",
              "      <th id=\"T_d7373_level0_row2\" class=\"row_heading level0 row2\" >Data Usage (MB/day)</th>\n",
              "      <td id=\"T_d7373_row2_col0\" class=\"data row2 col0\" >0.942308</td>\n",
              "      <td id=\"T_d7373_row2_col1\" class=\"data row2 col1\" >0.941322</td>\n",
              "      <td id=\"T_d7373_row2_col2\" class=\"data row2 col2\" >1.000000</td>\n",
              "      <td id=\"T_d7373_row2_col3\" class=\"data row2 col3\" >0.932276</td>\n",
              "      <td id=\"T_d7373_row2_col4\" class=\"data row2 col4\" >0.934800</td>\n",
              "      <td id=\"T_d7373_row2_col5\" class=\"data row2 col5\" >0.946734</td>\n",
              "    </tr>\n",
              "    <tr>\n",
              "      <th id=\"T_d7373_level0_row3\" class=\"row_heading level0 row3\" >Battery Drain (mAh/day)</th>\n",
              "      <td id=\"T_d7373_row3_col0\" class=\"data row3 col0\" >0.956385</td>\n",
              "      <td id=\"T_d7373_row3_col1\" class=\"data row3 col1\" >0.948983</td>\n",
              "      <td id=\"T_d7373_row3_col2\" class=\"data row3 col2\" >0.932276</td>\n",
              "      <td id=\"T_d7373_row3_col3\" class=\"data row3 col3\" >1.000000</td>\n",
              "      <td id=\"T_d7373_row3_col4\" class=\"data row3 col4\" >0.961853</td>\n",
              "      <td id=\"T_d7373_row3_col5\" class=\"data row3 col5\" >0.978587</td>\n",
              "    </tr>\n",
              "    <tr>\n",
              "      <th id=\"T_d7373_level0_row4\" class=\"row_heading level0 row4\" >Number of Apps Installed</th>\n",
              "      <td id=\"T_d7373_row4_col0\" class=\"data row4 col0\" >0.955253</td>\n",
              "      <td id=\"T_d7373_row4_col1\" class=\"data row4 col1\" >0.946975</td>\n",
              "      <td id=\"T_d7373_row4_col2\" class=\"data row4 col2\" >0.934800</td>\n",
              "      <td id=\"T_d7373_row4_col3\" class=\"data row4 col3\" >0.961853</td>\n",
              "      <td id=\"T_d7373_row4_col4\" class=\"data row4 col4\" >1.000000</td>\n",
              "      <td id=\"T_d7373_row4_col5\" class=\"data row4 col5\" >0.981255</td>\n",
              "    </tr>\n",
              "    <tr>\n",
              "      <th id=\"T_d7373_level0_row5\" class=\"row_heading level0 row5\" >User Behavior Class</th>\n",
              "      <td id=\"T_d7373_row5_col0\" class=\"data row5 col0\" >0.970498</td>\n",
              "      <td id=\"T_d7373_row5_col1\" class=\"data row5 col1\" >0.964581</td>\n",
              "      <td id=\"T_d7373_row5_col2\" class=\"data row5 col2\" >0.946734</td>\n",
              "      <td id=\"T_d7373_row5_col3\" class=\"data row5 col3\" >0.978587</td>\n",
              "      <td id=\"T_d7373_row5_col4\" class=\"data row5 col4\" >0.981255</td>\n",
              "      <td id=\"T_d7373_row5_col5\" class=\"data row5 col5\" >1.000000</td>\n",
              "    </tr>\n",
              "  </tbody>\n",
              "</table>\n"
            ]
          },
          "metadata": {},
          "execution_count": 13
        }
      ]
    },
    {
      "cell_type": "markdown",
      "source": [
        "# PHASE 2"
      ],
      "metadata": {
        "id": "cX5FIuEQZY-z"
      }
    },
    {
      "cell_type": "markdown",
      "source": [
        "Data Preprocessing\n"
      ],
      "metadata": {
        "id": "ESXeW1YHaYXc"
      }
    },
    {
      "cell_type": "code",
      "source": [
        "import numpy as np\n",
        "from sklearn.model_selection import train_test_split\n",
        "# Load Iris dataset from Scikit-learn\n",
        "from sklearn.datasets import load_iris\n"
      ],
      "metadata": {
        "id": "nZOQ9-upaMcy"
      },
      "execution_count": null,
      "outputs": []
    },
    {
      "cell_type": "code",
      "source": [
        "from sklearn.model_selection import train_test_split\n",
        "from sklearn.preprocessing import LabelEncoder\n",
        "import pandas as pd\n",
        "\n",
        "# Assuming df is already loaded with your dataset\n",
        "X = df.drop('User Behavior Class', axis=1)\n",
        "y = df[\"User Behavior Class\"]\n",
        "\n",
        "# Encoding categorical columns\n",
        "le = LabelEncoder()\n",
        "df['Device Model'] = le.fit_transform(df['Device Model'])\n",
        "df['Operating System'] = le.fit_transform(df['Operating System'])\n",
        "df['Gender'] = le.fit_transform(df['Gender'])\n",
        "\n",
        "# Splitting the data\n",
        "X_train, X_test, y_train, y_test = train_test_split(X, y, test_size=0.33, random_state=42)\n",
        "\n",
        "# Printing the shapes of the train and test sets\n",
        "print(\"Shape of X_train:\", X_train.shape)\n",
        "print(\"Shape of X_test:\", X_test.shape)\n",
        "print(\"Shape of y_train:\", y_train.shape)\n",
        "print(\"Shape of y_test:\", y_test.shape)\n",
        "\n",
        "# If you want to work with the Iris dataset, separate it like this\n",
        "from sklearn.datasets import load_iris\n",
        "\n",
        "iris = load_iris()\n",
        "feature_names = iris.feature_names\n",
        "X_data = pd.DataFrame(iris.data, columns=feature_names)\n",
        "y_data = iris.target\n",
        "\n"
      ],
      "metadata": {
        "colab": {
          "base_uri": "https://localhost:8080/"
        },
        "id": "QAB_khO8sNQ8",
        "outputId": "2c257e26-9222-4a3e-d704-772a59482afd"
      },
      "execution_count": null,
      "outputs": [
        {
          "output_type": "stream",
          "name": "stdout",
          "text": [
            "Shape of X_train: (469, 10)\n",
            "Shape of X_test: (231, 10)\n",
            "Shape of y_train: (469,)\n",
            "Shape of y_test: (231,)\n"
          ]
        }
      ]
    },
    {
      "cell_type": "code",
      "source": [
        "X_train, X_test, y_train, y_test = train_test_split( X, y, test_size=0.33, random_state=42)\n",
        "\n",
        "# Create input and output features\n",
        "feature_names = load_iris().feature_names\n",
        "X_data = pd.DataFrame(load_iris().data, columns=feature_names)\n",
        "y_data = load_iris().target\n"
      ],
      "metadata": {
        "id": "X0dm_ROmwjqK"
      },
      "execution_count": null,
      "outputs": []
    },
    {
      "cell_type": "markdown",
      "source": [
        "Train/test split\n"
      ],
      "metadata": {
        "id": "dm-gjcNsaKKG"
      }
    },
    {
      "cell_type": "markdown",
      "source": [
        "Feature Selection"
      ],
      "metadata": {
        "id": "TNs1mEWNaRUK"
      }
    },
    {
      "cell_type": "markdown",
      "source": [
        "### *Random Forest Classifier *"
      ],
      "metadata": {
        "id": "U3VNMdDvWvNK"
      }
    },
    {
      "cell_type": "markdown",
      "source": [
        "*testing - random forest classifier*"
      ],
      "metadata": {
        "id": "e2IDxqD_I19a"
      }
    },
    {
      "cell_type": "code",
      "source": [
        "from sklearn.ensemble import RandomForestClassifier\n",
        "from sklearn.metrics import accuracy_score\n",
        "\n",
        "RFC=RandomForestClassifier()\n",
        "RFC.fit(X_train, y_train)\n",
        "Predictions=RFC.predict(X_test)\n",
        "print(\"p:\",Predictions)\n",
        "print(\"no. of pre\", Predictions.size)\n",
        "\n",
        "\n",
        "accuracy = accuracy_score(y_test, Predictions)\n",
        "print('The accuracy of classifier with full features: {:.2f}'.format(accuracy))\n",
        "\n",
        "print('The accuracy of classifier with full features: {:.2f}'.format(accuracy))"
      ],
      "metadata": {
        "colab": {
          "base_uri": "https://localhost:8080/",
          "height": 356
        },
        "id": "h_kV6rGNKZ7q",
        "outputId": "8171af66-831e-474e-fd18-ed1787b5cfbc"
      },
      "execution_count": null,
      "outputs": [
        {
          "output_type": "error",
          "ename": "ValueError",
          "evalue": "could not convert string to float: 'Xiaomi Mi 11'",
          "traceback": [
            "\u001b[0;31m---------------------------------------------------------------------------\u001b[0m",
            "\u001b[0;31mValueError\u001b[0m                                Traceback (most recent call last)",
            "\u001b[0;32m<ipython-input-17-dbfc8a8f4677>\u001b[0m in \u001b[0;36m<cell line: 5>\u001b[0;34m()\u001b[0m\n\u001b[1;32m      3\u001b[0m \u001b[0;34m\u001b[0m\u001b[0m\n\u001b[1;32m      4\u001b[0m \u001b[0mRFC\u001b[0m\u001b[0;34m=\u001b[0m\u001b[0mRandomForestClassifier\u001b[0m\u001b[0;34m(\u001b[0m\u001b[0;34m)\u001b[0m\u001b[0;34m\u001b[0m\u001b[0;34m\u001b[0m\u001b[0m\n\u001b[0;32m----> 5\u001b[0;31m \u001b[0mRFC\u001b[0m\u001b[0;34m.\u001b[0m\u001b[0mfit\u001b[0m\u001b[0;34m(\u001b[0m\u001b[0mX_train\u001b[0m\u001b[0;34m,\u001b[0m \u001b[0my_train\u001b[0m\u001b[0;34m)\u001b[0m\u001b[0;34m\u001b[0m\u001b[0;34m\u001b[0m\u001b[0m\n\u001b[0m\u001b[1;32m      6\u001b[0m \u001b[0mPredictions\u001b[0m\u001b[0;34m=\u001b[0m\u001b[0mRFC\u001b[0m\u001b[0;34m.\u001b[0m\u001b[0mpredict\u001b[0m\u001b[0;34m(\u001b[0m\u001b[0mX_test\u001b[0m\u001b[0;34m)\u001b[0m\u001b[0;34m\u001b[0m\u001b[0;34m\u001b[0m\u001b[0m\n\u001b[1;32m      7\u001b[0m \u001b[0mprint\u001b[0m\u001b[0;34m(\u001b[0m\u001b[0;34m\"p:\"\u001b[0m\u001b[0;34m,\u001b[0m\u001b[0mPredictions\u001b[0m\u001b[0;34m)\u001b[0m\u001b[0;34m\u001b[0m\u001b[0;34m\u001b[0m\u001b[0m\n",
            "\u001b[0;32m/usr/local/lib/python3.10/dist-packages/sklearn/base.py\u001b[0m in \u001b[0;36mwrapper\u001b[0;34m(estimator, *args, **kwargs)\u001b[0m\n\u001b[1;32m   1471\u001b[0m                 )\n\u001b[1;32m   1472\u001b[0m             ):\n\u001b[0;32m-> 1473\u001b[0;31m                 \u001b[0;32mreturn\u001b[0m \u001b[0mfit_method\u001b[0m\u001b[0;34m(\u001b[0m\u001b[0mestimator\u001b[0m\u001b[0;34m,\u001b[0m \u001b[0;34m*\u001b[0m\u001b[0margs\u001b[0m\u001b[0;34m,\u001b[0m \u001b[0;34m**\u001b[0m\u001b[0mkwargs\u001b[0m\u001b[0;34m)\u001b[0m\u001b[0;34m\u001b[0m\u001b[0;34m\u001b[0m\u001b[0m\n\u001b[0m\u001b[1;32m   1474\u001b[0m \u001b[0;34m\u001b[0m\u001b[0m\n\u001b[1;32m   1475\u001b[0m         \u001b[0;32mreturn\u001b[0m \u001b[0mwrapper\u001b[0m\u001b[0;34m\u001b[0m\u001b[0;34m\u001b[0m\u001b[0m\n",
            "\u001b[0;32m/usr/local/lib/python3.10/dist-packages/sklearn/ensemble/_forest.py\u001b[0m in \u001b[0;36mfit\u001b[0;34m(self, X, y, sample_weight)\u001b[0m\n\u001b[1;32m    361\u001b[0m             \u001b[0;32mraise\u001b[0m \u001b[0mValueError\u001b[0m\u001b[0;34m(\u001b[0m\u001b[0;34m\"sparse multilabel-indicator for y is not supported.\"\u001b[0m\u001b[0;34m)\u001b[0m\u001b[0;34m\u001b[0m\u001b[0;34m\u001b[0m\u001b[0m\n\u001b[1;32m    362\u001b[0m \u001b[0;34m\u001b[0m\u001b[0m\n\u001b[0;32m--> 363\u001b[0;31m         X, y = self._validate_data(\n\u001b[0m\u001b[1;32m    364\u001b[0m             \u001b[0mX\u001b[0m\u001b[0;34m,\u001b[0m\u001b[0;34m\u001b[0m\u001b[0;34m\u001b[0m\u001b[0m\n\u001b[1;32m    365\u001b[0m             \u001b[0my\u001b[0m\u001b[0;34m,\u001b[0m\u001b[0;34m\u001b[0m\u001b[0;34m\u001b[0m\u001b[0m\n",
            "\u001b[0;32m/usr/local/lib/python3.10/dist-packages/sklearn/base.py\u001b[0m in \u001b[0;36m_validate_data\u001b[0;34m(self, X, y, reset, validate_separately, cast_to_ndarray, **check_params)\u001b[0m\n\u001b[1;32m    648\u001b[0m                 \u001b[0my\u001b[0m \u001b[0;34m=\u001b[0m \u001b[0mcheck_array\u001b[0m\u001b[0;34m(\u001b[0m\u001b[0my\u001b[0m\u001b[0;34m,\u001b[0m \u001b[0minput_name\u001b[0m\u001b[0;34m=\u001b[0m\u001b[0;34m\"y\"\u001b[0m\u001b[0;34m,\u001b[0m \u001b[0;34m**\u001b[0m\u001b[0mcheck_y_params\u001b[0m\u001b[0;34m)\u001b[0m\u001b[0;34m\u001b[0m\u001b[0;34m\u001b[0m\u001b[0m\n\u001b[1;32m    649\u001b[0m             \u001b[0;32melse\u001b[0m\u001b[0;34m:\u001b[0m\u001b[0;34m\u001b[0m\u001b[0;34m\u001b[0m\u001b[0m\n\u001b[0;32m--> 650\u001b[0;31m                 \u001b[0mX\u001b[0m\u001b[0;34m,\u001b[0m \u001b[0my\u001b[0m \u001b[0;34m=\u001b[0m \u001b[0mcheck_X_y\u001b[0m\u001b[0;34m(\u001b[0m\u001b[0mX\u001b[0m\u001b[0;34m,\u001b[0m \u001b[0my\u001b[0m\u001b[0;34m,\u001b[0m \u001b[0;34m**\u001b[0m\u001b[0mcheck_params\u001b[0m\u001b[0;34m)\u001b[0m\u001b[0;34m\u001b[0m\u001b[0;34m\u001b[0m\u001b[0m\n\u001b[0m\u001b[1;32m    651\u001b[0m             \u001b[0mout\u001b[0m \u001b[0;34m=\u001b[0m \u001b[0mX\u001b[0m\u001b[0;34m,\u001b[0m \u001b[0my\u001b[0m\u001b[0;34m\u001b[0m\u001b[0;34m\u001b[0m\u001b[0m\n\u001b[1;32m    652\u001b[0m \u001b[0;34m\u001b[0m\u001b[0m\n",
            "\u001b[0;32m/usr/local/lib/python3.10/dist-packages/sklearn/utils/validation.py\u001b[0m in \u001b[0;36mcheck_X_y\u001b[0;34m(X, y, accept_sparse, accept_large_sparse, dtype, order, copy, force_writeable, force_all_finite, ensure_2d, allow_nd, multi_output, ensure_min_samples, ensure_min_features, y_numeric, estimator)\u001b[0m\n\u001b[1;32m   1299\u001b[0m         )\n\u001b[1;32m   1300\u001b[0m \u001b[0;34m\u001b[0m\u001b[0m\n\u001b[0;32m-> 1301\u001b[0;31m     X = check_array(\n\u001b[0m\u001b[1;32m   1302\u001b[0m         \u001b[0mX\u001b[0m\u001b[0;34m,\u001b[0m\u001b[0;34m\u001b[0m\u001b[0;34m\u001b[0m\u001b[0m\n\u001b[1;32m   1303\u001b[0m         \u001b[0maccept_sparse\u001b[0m\u001b[0;34m=\u001b[0m\u001b[0maccept_sparse\u001b[0m\u001b[0;34m,\u001b[0m\u001b[0;34m\u001b[0m\u001b[0;34m\u001b[0m\u001b[0m\n",
            "\u001b[0;32m/usr/local/lib/python3.10/dist-packages/sklearn/utils/validation.py\u001b[0m in \u001b[0;36mcheck_array\u001b[0;34m(array, accept_sparse, accept_large_sparse, dtype, order, copy, force_writeable, force_all_finite, ensure_2d, allow_nd, ensure_min_samples, ensure_min_features, estimator, input_name)\u001b[0m\n\u001b[1;32m   1010\u001b[0m                     \u001b[0marray\u001b[0m \u001b[0;34m=\u001b[0m \u001b[0mxp\u001b[0m\u001b[0;34m.\u001b[0m\u001b[0mastype\u001b[0m\u001b[0;34m(\u001b[0m\u001b[0marray\u001b[0m\u001b[0;34m,\u001b[0m \u001b[0mdtype\u001b[0m\u001b[0;34m,\u001b[0m \u001b[0mcopy\u001b[0m\u001b[0;34m=\u001b[0m\u001b[0;32mFalse\u001b[0m\u001b[0;34m)\u001b[0m\u001b[0;34m\u001b[0m\u001b[0;34m\u001b[0m\u001b[0m\n\u001b[1;32m   1011\u001b[0m                 \u001b[0;32melse\u001b[0m\u001b[0;34m:\u001b[0m\u001b[0;34m\u001b[0m\u001b[0;34m\u001b[0m\u001b[0m\n\u001b[0;32m-> 1012\u001b[0;31m                     \u001b[0marray\u001b[0m \u001b[0;34m=\u001b[0m \u001b[0m_asarray_with_order\u001b[0m\u001b[0;34m(\u001b[0m\u001b[0marray\u001b[0m\u001b[0;34m,\u001b[0m \u001b[0morder\u001b[0m\u001b[0;34m=\u001b[0m\u001b[0morder\u001b[0m\u001b[0;34m,\u001b[0m \u001b[0mdtype\u001b[0m\u001b[0;34m=\u001b[0m\u001b[0mdtype\u001b[0m\u001b[0;34m,\u001b[0m \u001b[0mxp\u001b[0m\u001b[0;34m=\u001b[0m\u001b[0mxp\u001b[0m\u001b[0;34m)\u001b[0m\u001b[0;34m\u001b[0m\u001b[0;34m\u001b[0m\u001b[0m\n\u001b[0m\u001b[1;32m   1013\u001b[0m             \u001b[0;32mexcept\u001b[0m \u001b[0mComplexWarning\u001b[0m \u001b[0;32mas\u001b[0m \u001b[0mcomplex_warning\u001b[0m\u001b[0;34m:\u001b[0m\u001b[0;34m\u001b[0m\u001b[0;34m\u001b[0m\u001b[0m\n\u001b[1;32m   1014\u001b[0m                 raise ValueError(\n",
            "\u001b[0;32m/usr/local/lib/python3.10/dist-packages/sklearn/utils/_array_api.py\u001b[0m in \u001b[0;36m_asarray_with_order\u001b[0;34m(array, dtype, order, copy, xp, device)\u001b[0m\n\u001b[1;32m    743\u001b[0m             \u001b[0marray\u001b[0m \u001b[0;34m=\u001b[0m \u001b[0mnumpy\u001b[0m\u001b[0;34m.\u001b[0m\u001b[0marray\u001b[0m\u001b[0;34m(\u001b[0m\u001b[0marray\u001b[0m\u001b[0;34m,\u001b[0m \u001b[0morder\u001b[0m\u001b[0;34m=\u001b[0m\u001b[0morder\u001b[0m\u001b[0;34m,\u001b[0m \u001b[0mdtype\u001b[0m\u001b[0;34m=\u001b[0m\u001b[0mdtype\u001b[0m\u001b[0;34m)\u001b[0m\u001b[0;34m\u001b[0m\u001b[0;34m\u001b[0m\u001b[0m\n\u001b[1;32m    744\u001b[0m         \u001b[0;32melse\u001b[0m\u001b[0;34m:\u001b[0m\u001b[0;34m\u001b[0m\u001b[0;34m\u001b[0m\u001b[0m\n\u001b[0;32m--> 745\u001b[0;31m             \u001b[0marray\u001b[0m \u001b[0;34m=\u001b[0m \u001b[0mnumpy\u001b[0m\u001b[0;34m.\u001b[0m\u001b[0masarray\u001b[0m\u001b[0;34m(\u001b[0m\u001b[0marray\u001b[0m\u001b[0;34m,\u001b[0m \u001b[0morder\u001b[0m\u001b[0;34m=\u001b[0m\u001b[0morder\u001b[0m\u001b[0;34m,\u001b[0m \u001b[0mdtype\u001b[0m\u001b[0;34m=\u001b[0m\u001b[0mdtype\u001b[0m\u001b[0;34m)\u001b[0m\u001b[0;34m\u001b[0m\u001b[0;34m\u001b[0m\u001b[0m\n\u001b[0m\u001b[1;32m    746\u001b[0m \u001b[0;34m\u001b[0m\u001b[0m\n\u001b[1;32m    747\u001b[0m         \u001b[0;31m# At this point array is a NumPy ndarray. We convert it to an array\u001b[0m\u001b[0;34m\u001b[0m\u001b[0;34m\u001b[0m\u001b[0m\n",
            "\u001b[0;32m/usr/local/lib/python3.10/dist-packages/pandas/core/generic.py\u001b[0m in \u001b[0;36m__array__\u001b[0;34m(self, dtype, copy)\u001b[0m\n\u001b[1;32m   2151\u001b[0m     ) -> np.ndarray:\n\u001b[1;32m   2152\u001b[0m         \u001b[0mvalues\u001b[0m \u001b[0;34m=\u001b[0m \u001b[0mself\u001b[0m\u001b[0;34m.\u001b[0m\u001b[0m_values\u001b[0m\u001b[0;34m\u001b[0m\u001b[0;34m\u001b[0m\u001b[0m\n\u001b[0;32m-> 2153\u001b[0;31m         \u001b[0marr\u001b[0m \u001b[0;34m=\u001b[0m \u001b[0mnp\u001b[0m\u001b[0;34m.\u001b[0m\u001b[0masarray\u001b[0m\u001b[0;34m(\u001b[0m\u001b[0mvalues\u001b[0m\u001b[0;34m,\u001b[0m \u001b[0mdtype\u001b[0m\u001b[0;34m=\u001b[0m\u001b[0mdtype\u001b[0m\u001b[0;34m)\u001b[0m\u001b[0;34m\u001b[0m\u001b[0;34m\u001b[0m\u001b[0m\n\u001b[0m\u001b[1;32m   2154\u001b[0m         if (\n\u001b[1;32m   2155\u001b[0m             \u001b[0mastype_is_view\u001b[0m\u001b[0;34m(\u001b[0m\u001b[0mvalues\u001b[0m\u001b[0;34m.\u001b[0m\u001b[0mdtype\u001b[0m\u001b[0;34m,\u001b[0m \u001b[0marr\u001b[0m\u001b[0;34m.\u001b[0m\u001b[0mdtype\u001b[0m\u001b[0;34m)\u001b[0m\u001b[0;34m\u001b[0m\u001b[0;34m\u001b[0m\u001b[0m\n",
            "\u001b[0;31mValueError\u001b[0m: could not convert string to float: 'Xiaomi Mi 11'"
          ]
        }
      ]
    },
    {
      "cell_type": "markdown",
      "source": [
        "### **logistic regression**"
      ],
      "metadata": {
        "id": "-o64oVLuOCyq"
      }
    },
    {
      "cell_type": "code",
      "source": [
        "import numpy\n",
        "from sklearn import linear_model\n",
        "from sklearn.metrics import accuracy_score\n",
        "\n",
        "logr = linear_model.LogisticRegression()\n",
        "logr.fit(X_train, y_train)\n",
        "predicted = logr.predict(X_train)\n",
        "\n",
        "print(\"p:\",Predictions)\n",
        "print(\"no. of pre\", Predictions.size)\n",
        "\n",
        "print('The accuracy of classifier with full features: {:.2f}'.format(accuracy))"
      ],
      "metadata": {
        "colab": {
          "base_uri": "https://localhost:8080/"
        },
        "id": "OHEbhFKENq2s",
        "outputId": "bff4f747-bc39-410f-d15e-2c79f5f94de1"
      },
      "execution_count": null,
      "outputs": [
        {
          "output_type": "stream",
          "name": "stdout",
          "text": [
            "p: [4 1 1 2 3 2 2 1 4 3 1 1 2 1 3 4 5 1 3 2 5 4 3 4 4 2 3 5 2 5 1 3 1 3 4 5 5\n",
            " 1 1 2 3 4 1 3 2 5 3 3 1 3 2 2 2 1 5 5 3 1 4 2 3 2 1 2 5 2 5 1 5 5 1 2 3 2\n",
            " 3 2 5 4 4 4 2 1 4 3 4 4 5 3 3 1 1 4 2 3 4 2 2 1 3 5 3 3 1 1 3 4 5 1 4 4 5\n",
            " 4 4 3 3 2 4 3 4 3 3 4 5 4 5 2 3 5 4 5 3 2 1 3 2 3 5 2 1 2 4 3 4 2 1 4 4 5\n",
            " 1 1 1 1 3 4 4 1 4 4 5 3 5 5 1 4 2 5 3 5 3 1 4 1 5 4 3 1 4 1 5 1 3 4 2 4 1\n",
            " 3 3 1 5 4 3 3 4 1 4 5 3 4 2 2 1 1 4 1 3 3 1 3 3 4 5 3 1 1 3 1 5 1 1 1 3 5\n",
            " 3 3 5 5 1 5 5 3 5]\n",
            "no. of pre 231\n",
            "The accuracy of classifier with full features: 1.00\n"
          ]
        },
        {
          "output_type": "stream",
          "name": "stderr",
          "text": [
            "/usr/local/lib/python3.10/dist-packages/sklearn/linear_model/_logistic.py:469: ConvergenceWarning: lbfgs failed to converge (status=1):\n",
            "STOP: TOTAL NO. of ITERATIONS REACHED LIMIT.\n",
            "\n",
            "Increase the number of iterations (max_iter) or scale the data as shown in:\n",
            "    https://scikit-learn.org/stable/modules/preprocessing.html\n",
            "Please also refer to the documentation for alternative solver options:\n",
            "    https://scikit-learn.org/stable/modules/linear_model.html#logistic-regression\n",
            "  n_iter_i = _check_optimize_result(\n"
          ]
        }
      ]
    },
    {
      "cell_type": "markdown",
      "source": [
        "### **Tree Module**\n"
      ],
      "metadata": {
        "id": "tXI_QPRsPD7V"
      }
    },
    {
      "cell_type": "code",
      "source": [
        "from sklearn.tree import DecisionTreeClassifier\n",
        "import matplotlib.pyplot as plt\n",
        " # Creating the classifier object\n",
        "clf_gini = DecisionTreeClassifier(criterion=\"gini\",\n",
        "                                      random_state=42, max_depth=3, min_samples_leaf=5)\n",
        "\n",
        "# Performing training\n",
        "clf_gini.fit(X_train, y_train)\n",
        "predicted = clf_gini.predict(X_train)\n",
        "\n",
        "print(\"p:\",predicted)\n",
        "print(\"no. of pre\", predicted.size)\n",
        "\n",
        "print('The accuracy of classifier with full features: {:.2f}'.format(accuracy))"
      ],
      "metadata": {
        "colab": {
          "base_uri": "https://localhost:8080/"
        },
        "id": "NnOwIeecV5oC",
        "outputId": "1ee2a89b-3de8-4d87-a9ec-35e36e63d5df"
      },
      "execution_count": null,
      "outputs": [
        {
          "output_type": "stream",
          "name": "stdout",
          "text": [
            "p: [3 2 4 1 4 3 4 4 5 2 5 4 1 3 5 4 1 1 1 3 3 1 1 2 2 5 5 1 5 3 2 4 3 3 5 3 2\n",
            " 5 2 5 3 5 3 1 4 4 4 3 5 1 1 2 1 5 2 4 5 1 2 5 4 3 3 5 4 3 3 1 1 3 1 4 1 4\n",
            " 1 4 5 2 4 2 3 2 5 5 2 3 3 3 2 2 4 4 3 5 2 2 2 1 4 2 2 2 5 2 5 3 3 5 2 1 4\n",
            " 5 5 3 2 5 4 1 5 3 4 1 3 4 4 4 5 1 2 2 3 1 4 2 3 5 1 2 5 5 2 4 5 1 2 1 2 5\n",
            " 2 1 3 1 3 3 3 1 3 5 3 5 4 4 1 4 5 4 5 4 4 4 1 5 3 2 5 4 4 4 2 2 4 2 1 2 3\n",
            " 2 2 3 3 4 4 3 3 4 2 2 2 2 2 3 4 3 4 3 2 2 2 1 2 4 5 2 2 1 5 5 2 3 4 4 5 4\n",
            " 1 2 2 5 2 5 2 1 2 4 5 4 1 2 5 4 2 2 5 1 4 3 3 3 3 3 3 4 3 1 3 4 1 1 5 4 2\n",
            " 4 5 1 1 4 1 2 2 3 3 4 5 3 5 1 5 5 1 2 5 5 4 4 3 5 5 1 1 2 1 2 3 2 4 4 3 2\n",
            " 2 5 4 5 2 2 5 5 3 3 3 5 3 5 2 2 2 5 1 1 3 4 1 2 2 5 4 2 1 4 5 3 4 5 2 4 2\n",
            " 2 3 1 5 2 2 2 4 4 1 1 5 5 4 5 1 2 5 2 5 3 1 3 1 5 2 5 2 3 5 1 5 5 2 5 5 2\n",
            " 3 4 4 3 5 1 5 2 4 4 4 3 1 3 1 2 1 4 2 1 1 4 2 1 2 4 2 1 3 2 4 1 1 2 3 1 2\n",
            " 5 4 5 3 2 2 5 3 1 3 4 5 3 1 4 1 2 5 5 1 4 1 5 4 2 1 1 4 3 4 3 4 5 5 2 2 1\n",
            " 3 1 4 3 2 3 3 2 5 4 3 5 1 1 3 2 4 5 2 2 5 2 4 2 2]\n",
            "no. of pre 469\n",
            "The accuracy of classifier with full features: 1.00\n"
          ]
        }
      ]
    },
    {
      "cell_type": "markdown",
      "source": [
        "### **Cross-validation** - Random Forest Classifier"
      ],
      "metadata": {
        "id": "I8W7hUmCPkwp"
      }
    },
    {
      "cell_type": "code",
      "source": [
        "#Cross validation (attempt 1)\n",
        "from sklearn.model_selection import cross_val_score\n",
        "from sklearn import svm\n",
        "\n",
        "# clf = svm.SVC(kernel='linear', C=1, random_state=42)\n",
        "scores = cross_val_score(RFC, X_train, y_train,scoring = \"accuracy\", cv=5)\n",
        "for item in scores:\n",
        "  print(item)\n",
        "# print(\"%0.2f accuracy with a standard deviation of %0.2f\" % (scores.mean(), scores.std()))\n"
      ],
      "metadata": {
        "colab": {
          "base_uri": "https://localhost:8080/"
        },
        "id": "KNrYWS2KPkFK",
        "outputId": "1e235d08-4e1b-4c9b-eb5b-112bb69f975a"
      },
      "execution_count": null,
      "outputs": [
        {
          "output_type": "stream",
          "name": "stdout",
          "text": [
            "0.9893617021276596\n",
            "1.0\n",
            "1.0\n",
            "1.0\n",
            "0.989247311827957\n"
          ]
        }
      ]
    },
    {
      "cell_type": "markdown",
      "source": [
        "### **Cross-validation** - Random Forest Classifier"
      ],
      "metadata": {
        "id": "bh5I3d9sfEnB"
      }
    },
    {
      "cell_type": "code",
      "source": [
        "#Cross validation (attempt 1)\n",
        "from sklearn.model_selection import cross_val_score\n",
        "from sklearn import svm\n",
        "\n",
        "print(\"----------- recall_macro \")\n",
        "\n",
        "recall_macro_RFC = cross_val_score(RFC, X_train, y_train,scoring = \"recall_macro\", cv=5)\n",
        "\n",
        "print(\"Mean of recall - Random Forest Classifier \" , recall_macro_RFC.mean())\n",
        "\n",
        "print(\"----------- precision_macro \")\n",
        "precision_macro_RFC = cross_val_score(RFC, X_train, y_train,scoring = \"precision_macro\", cv=5)\n",
        "\n",
        "\n",
        "print(\"Mean of precision - Random Forest Classifier: \" , precision_macro_RFC.mean())\n",
        "\n",
        "print(\"----------- accuracy \")\n",
        "accuracy_RFC = cross_val_score(RFC, X_train, y_train,scoring = \"accuracy\", cv=5)\n",
        "print(\"Mean of accuracy - Random Forest Classifier \" , accuracy_RFC.mean())"
      ],
      "metadata": {
        "colab": {
          "base_uri": "https://localhost:8080/"
        },
        "id": "OzFqsfDKc92W",
        "outputId": "9d0f29ab-a1cf-4dbd-e133-84ea49af4eeb"
      },
      "execution_count": null,
      "outputs": [
        {
          "output_type": "stream",
          "name": "stdout",
          "text": [
            "----------- recall_macro \n",
            "Mean of recall - Random Forest Classifier  1.0\n",
            "----------- precision_macro \n",
            "Mean of precision - Random Forest Classifier:  1.0\n",
            "----------- accuracy \n",
            "Mean of accuracy - Random Forest Classifier  1.0\n"
          ]
        }
      ]
    },
    {
      "cell_type": "markdown",
      "source": [
        "### **Cross-validation** - Tree Algorithm\n"
      ],
      "metadata": {
        "id": "J4JjjZvvXZsW"
      }
    },
    {
      "cell_type": "markdown",
      "source": [
        "### ***GINI Classification***"
      ],
      "metadata": {
        "id": "wBDD-isxm3w5"
      }
    },
    {
      "cell_type": "code",
      "source": [
        "#Cross validation (attempt 1)\n",
        "from sklearn.model_selection import cross_val_score\n",
        "from sklearn import svm\n",
        "\n",
        "# clf = svm.SVC(kernel='linear', C=1, random_state=42)\n",
        "scores = cross_val_score(clf_gini, X_train, y_train,scoring = \"accuracy\", cv=5)\n",
        "for item in scores:\n",
        "  print(item)\n",
        "# print(\"%0.2f accuracy with a standard deviation of %0.2f\" % (scores.mean(), scores.std()))\n"
      ],
      "metadata": {
        "id": "NLFKjCzeXalj"
      },
      "execution_count": null,
      "outputs": []
    },
    {
      "cell_type": "code",
      "source": [
        "#Cross validation (attempt 1)\n",
        "from sklearn.model_selection import cross_val_score\n",
        "from sklearn import svm\n",
        "\n",
        "print(\"----------- recall_macro \")\n",
        "\n",
        "recall_macro_clf_gini = cross_val_score(clf_gini, X_train, y_train,scoring = \"recall_macro\", cv=5)\n",
        "\n",
        "print(\"Mean of recall - GINI Classification: \" , recall_macro_clf_gini.mean())\n",
        "\n",
        "print(\"----------- precision_macro \")\n",
        "precision_macro_clf_gini = cross_val_score(clf_gini, X_train, y_train,scoring = \"precision_macro\", cv=5)\n",
        "\n",
        "\n",
        "print(\"Mean of precision - GINI Classification: \" , precision_macro_clf_gini.mean())\n",
        "\n",
        "print(\"----------- accuracy \")\n",
        "accuracy_clf_gini = cross_val_score(clf_gini, X_train, y_train,scoring = \"accuracy\", cv=5)\n",
        "print(\"Mean of accuracy - GINI Classification: \" , accuracy_clf_gini.mean())"
      ],
      "metadata": {
        "colab": {
          "base_uri": "https://localhost:8080/"
        },
        "id": "b_ZERzS1crDI",
        "outputId": "05aa8bda-2f9b-456f-ccb7-55a4f531da47"
      },
      "execution_count": null,
      "outputs": [
        {
          "output_type": "stream",
          "name": "stdout",
          "text": [
            "----------- recall_macro \n",
            "Mean of recall - GINI Classification:  0.9960765550239234\n",
            "----------- precision_macro \n",
            "Mean of precision - GINI Classification:  0.9956470588235294\n",
            "----------- accuracy \n",
            "Mean of accuracy - GINI Classification:  0.9957218027911233\n"
          ]
        }
      ]
    },
    {
      "cell_type": "markdown",
      "source": [
        "### **Cross-validation** - Logistic Regression\n"
      ],
      "metadata": {
        "id": "Vg_PXRGlXlaf"
      }
    },
    {
      "cell_type": "code",
      "source": [
        "#Cross validation (attempt 1)\n",
        "from sklearn.model_selection import cross_val_score\n",
        "from sklearn import svm\n",
        "\n",
        "# clf = svm.SVC(kernel='linear', C=1, random_state=42)\n",
        "scores = cross_val_score(logr, X_train, y_train,scoring = \"accuracy\", cv=5)\n",
        "for item in scores:\n",
        "  print(item)\n",
        "# print(\"%0.2f accuracy with a standard deviation of %0.2f\" % (scores.mean(), scores.std()))\n"
      ],
      "metadata": {
        "colab": {
          "base_uri": "https://localhost:8080/"
        },
        "id": "Kpf7Eze4Xq7j",
        "outputId": "643eb379-5ed4-4b43-b9cb-3fa977de2beb"
      },
      "execution_count": null,
      "outputs": [
        {
          "output_type": "stream",
          "name": "stdout",
          "text": [
            "0.5531914893617021\n",
            "0.723404255319149\n",
            "0.6170212765957447\n",
            "0.7021276595744681\n",
            "0.6774193548387096\n"
          ]
        },
        {
          "output_type": "stream",
          "name": "stderr",
          "text": [
            "/usr/local/lib/python3.10/dist-packages/sklearn/linear_model/_logistic.py:469: ConvergenceWarning: lbfgs failed to converge (status=1):\n",
            "STOP: TOTAL NO. of ITERATIONS REACHED LIMIT.\n",
            "\n",
            "Increase the number of iterations (max_iter) or scale the data as shown in:\n",
            "    https://scikit-learn.org/stable/modules/preprocessing.html\n",
            "Please also refer to the documentation for alternative solver options:\n",
            "    https://scikit-learn.org/stable/modules/linear_model.html#logistic-regression\n",
            "  n_iter_i = _check_optimize_result(\n",
            "/usr/local/lib/python3.10/dist-packages/sklearn/linear_model/_logistic.py:469: ConvergenceWarning: lbfgs failed to converge (status=1):\n",
            "STOP: TOTAL NO. of ITERATIONS REACHED LIMIT.\n",
            "\n",
            "Increase the number of iterations (max_iter) or scale the data as shown in:\n",
            "    https://scikit-learn.org/stable/modules/preprocessing.html\n",
            "Please also refer to the documentation for alternative solver options:\n",
            "    https://scikit-learn.org/stable/modules/linear_model.html#logistic-regression\n",
            "  n_iter_i = _check_optimize_result(\n",
            "/usr/local/lib/python3.10/dist-packages/sklearn/linear_model/_logistic.py:469: ConvergenceWarning: lbfgs failed to converge (status=1):\n",
            "STOP: TOTAL NO. of ITERATIONS REACHED LIMIT.\n",
            "\n",
            "Increase the number of iterations (max_iter) or scale the data as shown in:\n",
            "    https://scikit-learn.org/stable/modules/preprocessing.html\n",
            "Please also refer to the documentation for alternative solver options:\n",
            "    https://scikit-learn.org/stable/modules/linear_model.html#logistic-regression\n",
            "  n_iter_i = _check_optimize_result(\n",
            "/usr/local/lib/python3.10/dist-packages/sklearn/linear_model/_logistic.py:469: ConvergenceWarning: lbfgs failed to converge (status=1):\n",
            "STOP: TOTAL NO. of ITERATIONS REACHED LIMIT.\n",
            "\n",
            "Increase the number of iterations (max_iter) or scale the data as shown in:\n",
            "    https://scikit-learn.org/stable/modules/preprocessing.html\n",
            "Please also refer to the documentation for alternative solver options:\n",
            "    https://scikit-learn.org/stable/modules/linear_model.html#logistic-regression\n",
            "  n_iter_i = _check_optimize_result(\n",
            "/usr/local/lib/python3.10/dist-packages/sklearn/linear_model/_logistic.py:469: ConvergenceWarning: lbfgs failed to converge (status=1):\n",
            "STOP: TOTAL NO. of ITERATIONS REACHED LIMIT.\n",
            "\n",
            "Increase the number of iterations (max_iter) or scale the data as shown in:\n",
            "    https://scikit-learn.org/stable/modules/preprocessing.html\n",
            "Please also refer to the documentation for alternative solver options:\n",
            "    https://scikit-learn.org/stable/modules/linear_model.html#logistic-regression\n",
            "  n_iter_i = _check_optimize_result(\n"
          ]
        }
      ]
    },
    {
      "cell_type": "code",
      "source": [
        "#Cross validation (attempt 1)\n",
        "from sklearn.model_selection import cross_val_score\n",
        "from sklearn import svm\n",
        "\n",
        "print(\"----------- recall_macro \")\n",
        "\n",
        "recall_macro_logr = cross_val_score(logr, X_train, y_train,scoring = \"recall_macro\", cv=5)\n",
        "\n",
        "print(\"Mean of recall - Logistic Regression: \" , recall_macro_logr.mean())\n",
        "\n",
        "print(\"----------- precision_macro \")\n",
        "precision_macro_logr = cross_val_score(logr, X_train, y_train,scoring = \"precision_macro\", cv=5)\n",
        "\n",
        "\n",
        "print(\"Mean of precision - Logistic Regression: \" , precision_macro_logr.mean())\n",
        "\n",
        "print(\"----------- accuracy \")\n",
        "accuracy_logr = cross_val_score(logr, X_train, y_train,scoring = \"accuracy\", cv=5)\n",
        "print(\"Mean of accuracy - Logistic Regression: \" , accuracy_logr.mean())\n",
        "\n",
        "# clf = svm.SVC(kernel='linear', C=1, random_state=42)\n",
        "\n",
        "# clf = svm.SVC(kernel='linear', C=1, random_state=42)\n",
        "\n",
        "# print(\"----------- confusion_matrix \")\n",
        "# scores2 = cross_val_score(logr, X_train, y_train,scoring = \"confusion_matrix\", cv=5)\n",
        "\n",
        "# for item in scores2:\n",
        "#   print(item)\n",
        "# print(\"%0.2f accuracy with a standard deviation of %0.2f\" % (scores.mean(), scores.std()))\n"
      ],
      "metadata": {
        "colab": {
          "base_uri": "https://localhost:8080/"
        },
        "id": "zA666Wx6YCXs",
        "outputId": "914c4b52-cad2-4ff6-91b2-877082e2e464"
      },
      "execution_count": null,
      "outputs": [
        {
          "output_type": "stream",
          "name": "stdout",
          "text": [
            "----------- recall_macro \n",
            "Mean of recall - Logistic Regression:  0.6501602952393772\n",
            "----------- precision_macro \n"
          ]
        },
        {
          "output_type": "stream",
          "name": "stderr",
          "text": [
            "/usr/local/lib/python3.10/dist-packages/sklearn/linear_model/_logistic.py:469: ConvergenceWarning: lbfgs failed to converge (status=1):\n",
            "STOP: TOTAL NO. of ITERATIONS REACHED LIMIT.\n",
            "\n",
            "Increase the number of iterations (max_iter) or scale the data as shown in:\n",
            "    https://scikit-learn.org/stable/modules/preprocessing.html\n",
            "Please also refer to the documentation for alternative solver options:\n",
            "    https://scikit-learn.org/stable/modules/linear_model.html#logistic-regression\n",
            "  n_iter_i = _check_optimize_result(\n",
            "/usr/local/lib/python3.10/dist-packages/sklearn/linear_model/_logistic.py:469: ConvergenceWarning: lbfgs failed to converge (status=1):\n",
            "STOP: TOTAL NO. of ITERATIONS REACHED LIMIT.\n",
            "\n",
            "Increase the number of iterations (max_iter) or scale the data as shown in:\n",
            "    https://scikit-learn.org/stable/modules/preprocessing.html\n",
            "Please also refer to the documentation for alternative solver options:\n",
            "    https://scikit-learn.org/stable/modules/linear_model.html#logistic-regression\n",
            "  n_iter_i = _check_optimize_result(\n",
            "/usr/local/lib/python3.10/dist-packages/sklearn/linear_model/_logistic.py:469: ConvergenceWarning: lbfgs failed to converge (status=1):\n",
            "STOP: TOTAL NO. of ITERATIONS REACHED LIMIT.\n",
            "\n",
            "Increase the number of iterations (max_iter) or scale the data as shown in:\n",
            "    https://scikit-learn.org/stable/modules/preprocessing.html\n",
            "Please also refer to the documentation for alternative solver options:\n",
            "    https://scikit-learn.org/stable/modules/linear_model.html#logistic-regression\n",
            "  n_iter_i = _check_optimize_result(\n",
            "/usr/local/lib/python3.10/dist-packages/sklearn/linear_model/_logistic.py:469: ConvergenceWarning: lbfgs failed to converge (status=1):\n",
            "STOP: TOTAL NO. of ITERATIONS REACHED LIMIT.\n",
            "\n",
            "Increase the number of iterations (max_iter) or scale the data as shown in:\n",
            "    https://scikit-learn.org/stable/modules/preprocessing.html\n",
            "Please also refer to the documentation for alternative solver options:\n",
            "    https://scikit-learn.org/stable/modules/linear_model.html#logistic-regression\n",
            "  n_iter_i = _check_optimize_result(\n",
            "/usr/local/lib/python3.10/dist-packages/sklearn/linear_model/_logistic.py:469: ConvergenceWarning: lbfgs failed to converge (status=1):\n",
            "STOP: TOTAL NO. of ITERATIONS REACHED LIMIT.\n",
            "\n",
            "Increase the number of iterations (max_iter) or scale the data as shown in:\n",
            "    https://scikit-learn.org/stable/modules/preprocessing.html\n",
            "Please also refer to the documentation for alternative solver options:\n",
            "    https://scikit-learn.org/stable/modules/linear_model.html#logistic-regression\n",
            "  n_iter_i = _check_optimize_result(\n",
            "/usr/local/lib/python3.10/dist-packages/sklearn/linear_model/_logistic.py:469: ConvergenceWarning: lbfgs failed to converge (status=1):\n",
            "STOP: TOTAL NO. of ITERATIONS REACHED LIMIT.\n",
            "\n",
            "Increase the number of iterations (max_iter) or scale the data as shown in:\n",
            "    https://scikit-learn.org/stable/modules/preprocessing.html\n",
            "Please also refer to the documentation for alternative solver options:\n",
            "    https://scikit-learn.org/stable/modules/linear_model.html#logistic-regression\n",
            "  n_iter_i = _check_optimize_result(\n",
            "/usr/local/lib/python3.10/dist-packages/sklearn/linear_model/_logistic.py:469: ConvergenceWarning: lbfgs failed to converge (status=1):\n",
            "STOP: TOTAL NO. of ITERATIONS REACHED LIMIT.\n",
            "\n",
            "Increase the number of iterations (max_iter) or scale the data as shown in:\n",
            "    https://scikit-learn.org/stable/modules/preprocessing.html\n",
            "Please also refer to the documentation for alternative solver options:\n",
            "    https://scikit-learn.org/stable/modules/linear_model.html#logistic-regression\n",
            "  n_iter_i = _check_optimize_result(\n",
            "/usr/local/lib/python3.10/dist-packages/sklearn/linear_model/_logistic.py:469: ConvergenceWarning: lbfgs failed to converge (status=1):\n",
            "STOP: TOTAL NO. of ITERATIONS REACHED LIMIT.\n",
            "\n",
            "Increase the number of iterations (max_iter) or scale the data as shown in:\n",
            "    https://scikit-learn.org/stable/modules/preprocessing.html\n",
            "Please also refer to the documentation for alternative solver options:\n",
            "    https://scikit-learn.org/stable/modules/linear_model.html#logistic-regression\n",
            "  n_iter_i = _check_optimize_result(\n",
            "/usr/local/lib/python3.10/dist-packages/sklearn/linear_model/_logistic.py:469: ConvergenceWarning: lbfgs failed to converge (status=1):\n",
            "STOP: TOTAL NO. of ITERATIONS REACHED LIMIT.\n",
            "\n",
            "Increase the number of iterations (max_iter) or scale the data as shown in:\n",
            "    https://scikit-learn.org/stable/modules/preprocessing.html\n",
            "Please also refer to the documentation for alternative solver options:\n",
            "    https://scikit-learn.org/stable/modules/linear_model.html#logistic-regression\n",
            "  n_iter_i = _check_optimize_result(\n",
            "/usr/local/lib/python3.10/dist-packages/sklearn/linear_model/_logistic.py:469: ConvergenceWarning: lbfgs failed to converge (status=1):\n",
            "STOP: TOTAL NO. of ITERATIONS REACHED LIMIT.\n",
            "\n",
            "Increase the number of iterations (max_iter) or scale the data as shown in:\n",
            "    https://scikit-learn.org/stable/modules/preprocessing.html\n",
            "Please also refer to the documentation for alternative solver options:\n",
            "    https://scikit-learn.org/stable/modules/linear_model.html#logistic-regression\n",
            "  n_iter_i = _check_optimize_result(\n",
            "/usr/local/lib/python3.10/dist-packages/sklearn/linear_model/_logistic.py:469: ConvergenceWarning: lbfgs failed to converge (status=1):\n",
            "STOP: TOTAL NO. of ITERATIONS REACHED LIMIT.\n",
            "\n",
            "Increase the number of iterations (max_iter) or scale the data as shown in:\n",
            "    https://scikit-learn.org/stable/modules/preprocessing.html\n",
            "Please also refer to the documentation for alternative solver options:\n",
            "    https://scikit-learn.org/stable/modules/linear_model.html#logistic-regression\n",
            "  n_iter_i = _check_optimize_result(\n",
            "/usr/local/lib/python3.10/dist-packages/sklearn/linear_model/_logistic.py:469: ConvergenceWarning: lbfgs failed to converge (status=1):\n",
            "STOP: TOTAL NO. of ITERATIONS REACHED LIMIT.\n",
            "\n",
            "Increase the number of iterations (max_iter) or scale the data as shown in:\n",
            "    https://scikit-learn.org/stable/modules/preprocessing.html\n",
            "Please also refer to the documentation for alternative solver options:\n",
            "    https://scikit-learn.org/stable/modules/linear_model.html#logistic-regression\n",
            "  n_iter_i = _check_optimize_result(\n"
          ]
        },
        {
          "output_type": "stream",
          "name": "stdout",
          "text": [
            "Mean of precision - Logistic Regression:  0.6728352399944472\n",
            "----------- accuracy \n",
            "Mean of accuracy - Logistic Regression:  0.6546328071379548\n"
          ]
        },
        {
          "output_type": "stream",
          "name": "stderr",
          "text": [
            "/usr/local/lib/python3.10/dist-packages/sklearn/linear_model/_logistic.py:469: ConvergenceWarning: lbfgs failed to converge (status=1):\n",
            "STOP: TOTAL NO. of ITERATIONS REACHED LIMIT.\n",
            "\n",
            "Increase the number of iterations (max_iter) or scale the data as shown in:\n",
            "    https://scikit-learn.org/stable/modules/preprocessing.html\n",
            "Please also refer to the documentation for alternative solver options:\n",
            "    https://scikit-learn.org/stable/modules/linear_model.html#logistic-regression\n",
            "  n_iter_i = _check_optimize_result(\n",
            "/usr/local/lib/python3.10/dist-packages/sklearn/linear_model/_logistic.py:469: ConvergenceWarning: lbfgs failed to converge (status=1):\n",
            "STOP: TOTAL NO. of ITERATIONS REACHED LIMIT.\n",
            "\n",
            "Increase the number of iterations (max_iter) or scale the data as shown in:\n",
            "    https://scikit-learn.org/stable/modules/preprocessing.html\n",
            "Please also refer to the documentation for alternative solver options:\n",
            "    https://scikit-learn.org/stable/modules/linear_model.html#logistic-regression\n",
            "  n_iter_i = _check_optimize_result(\n",
            "/usr/local/lib/python3.10/dist-packages/sklearn/linear_model/_logistic.py:469: ConvergenceWarning: lbfgs failed to converge (status=1):\n",
            "STOP: TOTAL NO. of ITERATIONS REACHED LIMIT.\n",
            "\n",
            "Increase the number of iterations (max_iter) or scale the data as shown in:\n",
            "    https://scikit-learn.org/stable/modules/preprocessing.html\n",
            "Please also refer to the documentation for alternative solver options:\n",
            "    https://scikit-learn.org/stable/modules/linear_model.html#logistic-regression\n",
            "  n_iter_i = _check_optimize_result(\n"
          ]
        }
      ]
    },
    {
      "cell_type": "markdown",
      "source": [
        "### **Cross Validation - Confusion Matrix **"
      ],
      "metadata": {
        "id": "_eEXGmXpfvNp"
      }
    },
    {
      "cell_type": "code",
      "source": [
        "from sklearn.metrics import confusion_matrix\n",
        "from sklearn.model_selection import cross_val_predict\n",
        "y_train_pred = cross_val_predict(RFC, X_train, y_train, cv=10)\n",
        "\n",
        "confusion_matrix(y_train, y_train_pred)\n"
      ],
      "metadata": {
        "colab": {
          "base_uri": "https://localhost:8080/"
        },
        "id": "EGzJoStQf1Li",
        "outputId": "aa15c07c-2f9a-4abc-9c41-bddfaf4d0051"
      },
      "execution_count": null,
      "outputs": [
        {
          "output_type": "execute_result",
          "data": {
            "text/plain": [
              "array([[ 83,   0,   0,   0,   0],\n",
              "       [  0, 112,   0,   0,   0],\n",
              "       [  0,   0,  87,   0,   0],\n",
              "       [  0,   0,   0,  92,   0],\n",
              "       [  0,   0,   0,   0,  95]])"
            ]
          },
          "metadata": {},
          "execution_count": 139
        }
      ]
    },
    {
      "cell_type": "markdown",
      "source": [
        "### **Compare between modules**"
      ],
      "metadata": {
        "id": "QnviCFwGkKpY"
      }
    },
    {
      "cell_type": "code",
      "source": [
        "classifier = [\"RFC\", \"logistic\", \"gini\"]\n",
        "accuracy = [ accuracy_RFC.mean(), accuracy_logr.mean(), accuracy_clf_gini.mean()]\n",
        "plt.bar(classifier, accuracy)\n",
        "plt.show"
      ],
      "metadata": {
        "colab": {
          "base_uri": "https://localhost:8080/",
          "height": 599
        },
        "id": "ohc7fLs-kKQZ",
        "outputId": "197e86de-eb75-43a0-cdd3-484eb1352c2e"
      },
      "execution_count": null,
      "outputs": [
        {
          "output_type": "execute_result",
          "data": {
            "text/plain": [
              "<function matplotlib.pyplot.show(close=None, block=None)>"
            ],
            "text/html": [
              "<div style=\"max-width:800px; border: 1px solid var(--colab-border-color);\"><style>\n",
              "      pre.function-repr-contents {\n",
              "        overflow-x: auto;\n",
              "        padding: 8px 12px;\n",
              "        max-height: 500px;\n",
              "      }\n",
              "\n",
              "      pre.function-repr-contents.function-repr-contents-collapsed {\n",
              "        cursor: pointer;\n",
              "        max-height: 100px;\n",
              "      }\n",
              "    </style>\n",
              "    <pre style=\"white-space: initial; background:\n",
              "         var(--colab-secondary-surface-color); padding: 8px 12px;\n",
              "         border-bottom: 1px solid var(--colab-border-color);\"><b>matplotlib.pyplot.show</b><br/>def show(*args, **kwargs)</pre><pre class=\"function-repr-contents function-repr-contents-collapsed\" style=\"\"><a class=\"filepath\" style=\"display:none\" href=\"#\">/usr/local/lib/python3.10/dist-packages/matplotlib/pyplot.py</a>Display all open figures.\n",
              "\n",
              "Parameters\n",
              "----------\n",
              "block : bool, optional\n",
              "    Whether to wait for all figures to be closed before returning.\n",
              "\n",
              "    If `True` block and run the GUI main loop until all figure windows\n",
              "    are closed.\n",
              "\n",
              "    If `False` ensure that all figure windows are displayed and return\n",
              "    immediately.  In this case, you are responsible for ensuring\n",
              "    that the event loop is running to have responsive figures.\n",
              "\n",
              "    Defaults to True in non-interactive mode and to False in interactive\n",
              "    mode (see `.pyplot.isinteractive`).\n",
              "\n",
              "See Also\n",
              "--------\n",
              "ion : Enable interactive mode, which shows / updates the figure after\n",
              "      every plotting command, so that calling ``show()`` is not necessary.\n",
              "ioff : Disable interactive mode.\n",
              "savefig : Save the figure to an image file instead of showing it on screen.\n",
              "\n",
              "Notes\n",
              "-----\n",
              "**Saving figures to file and showing a window at the same time**\n",
              "\n",
              "If you want an image file as well as a user interface window, use\n",
              "`.pyplot.savefig` before `.pyplot.show`. At the end of (a blocking)\n",
              "``show()`` the figure is closed and thus unregistered from pyplot. Calling\n",
              "`.pyplot.savefig` afterwards would save a new and thus empty figure. This\n",
              "limitation of command order does not apply if the show is non-blocking or\n",
              "if you keep a reference to the figure and use `.Figure.savefig`.\n",
              "\n",
              "**Auto-show in jupyter notebooks**\n",
              "\n",
              "The jupyter backends (activated via ``%matplotlib inline``,\n",
              "``%matplotlib notebook``, or ``%matplotlib widget``), call ``show()`` at\n",
              "the end of every cell by default. Thus, you usually don&#x27;t have to call it\n",
              "explicitly there.</pre>\n",
              "      <script>\n",
              "      if (google.colab.kernel.accessAllowed && google.colab.files && google.colab.files.view) {\n",
              "        for (const element of document.querySelectorAll('.filepath')) {\n",
              "          element.style.display = 'block'\n",
              "          element.onclick = (event) => {\n",
              "            event.preventDefault();\n",
              "            event.stopPropagation();\n",
              "            google.colab.files.view(element.textContent, 482);\n",
              "          };\n",
              "        }\n",
              "      }\n",
              "      for (const element of document.querySelectorAll('.function-repr-contents')) {\n",
              "        element.onclick = (event) => {\n",
              "          event.preventDefault();\n",
              "          event.stopPropagation();\n",
              "          element.classList.toggle('function-repr-contents-collapsed');\n",
              "        };\n",
              "      }\n",
              "      </script>\n",
              "      </div>"
            ]
          },
          "metadata": {},
          "execution_count": 155
        },
        {
          "output_type": "display_data",
          "data": {
            "text/plain": [
              "<Figure size 640x480 with 1 Axes>"
            ],
            "image/png": "[encoded data removed]"
          },
          "metadata": {}
        }
      ]
    }
  ]
}